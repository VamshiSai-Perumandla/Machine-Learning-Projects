{
 "cells": [
  {
   "cell_type": "markdown",
   "metadata": {},
   "source": [
    "## LOAD THE LIBRARIES"
   ]
  },
  {
   "cell_type": "code",
   "execution_count": 1,
   "metadata": {},
   "outputs": [],
   "source": [
    "from bs4 import BeautifulSoup\n",
    "import requests"
   ]
  },
  {
   "cell_type": "markdown",
   "metadata": {},
   "source": [
    "**Beautiful Soup is a Python package for parsing HTML and XML documents. It creates a parse tree for parsed pages that can be used to extract data from HTML, which is useful for web scraping.**"
   ]
  },
  {
   "cell_type": "code",
   "execution_count": 2,
   "metadata": {},
   "outputs": [],
   "source": [
    "import spacy \n",
    "nlp = spacy.load('en_core_web_sm') "
   ]
  },
  {
   "cell_type": "code",
   "execution_count": 3,
   "metadata": {},
   "outputs": [],
   "source": [
    "import pandas as pd"
   ]
  },
  {
   "cell_type": "code",
   "execution_count": 4,
   "metadata": {},
   "outputs": [],
   "source": [
    "import matplotlib.pyplot as plt\n",
    "%matplotlib inline"
   ]
  },
  {
   "cell_type": "markdown",
   "metadata": {},
   "source": [
    "#### Using TextBlob to find the sentiment polarity "
   ]
  },
  {
   "cell_type": "code",
   "execution_count": 5,
   "metadata": {},
   "outputs": [],
   "source": [
    "from textblob import TextBlob"
   ]
  },
  {
   "cell_type": "markdown",
   "metadata": {},
   "source": [
    "# Taking the news articles for a specific month from various newspapers\n"
   ]
  },
  {
   "cell_type": "markdown",
   "metadata": {},
   "source": [
    "### In this case,we are considering the month 'March' "
   ]
  },
  {
   "cell_type": "code",
   "execution_count": 6,
   "metadata": {},
   "outputs": [],
   "source": [
    "date_list=[]\n",
    "for i in range(1,31):\n",
    "    date_list.append('03-{}-20'.format(i))"
   ]
  },
  {
   "cell_type": "code",
   "execution_count": 7,
   "metadata": {},
   "outputs": [],
   "source": [
    "day_of_month=[]\n",
    "for i in range(1,31):\n",
    "    day_of_month.append(i)"
   ]
  },
  {
   "cell_type": "markdown",
   "metadata": {},
   "source": [
    "### FOR CNN NEWS "
   ]
  },
  {
   "cell_type": "code",
   "execution_count": 8,
   "metadata": {},
   "outputs": [],
   "source": [
    "cnn_url=[]\n",
    "for i in range(1,31):\n",
    "    if i in [1,2,3,4,5,6,7,8,9]:\n",
    "        i='0{}'.format(i)\n",
    "    cnn_url.append(\"https://www.cnn.com/world/live-news/coronavirus-outbreak-03-{}-20-intl-hnk/index.html\".format(i))"
   ]
  },
  {
   "cell_type": "code",
   "execution_count": 9,
   "metadata": {},
   "outputs": [],
   "source": [
    "news_dict=[]\n",
    "for i in range(0,30):\n",
    "    response = requests.get(cnn_url[i])\n",
    "    soup = BeautifulSoup(response.content,'html.parser')\n",
    "\n",
    "    for link in soup.find_all('h2'):\n",
    "        if(len(link.text.split(\" \")) > 4):\n",
    "            polarity=TextBlob(link.text).sentiment.polarity\n",
    "            if polarity>0:\n",
    "                sentiment='positive'\n",
    "            if polarity<0:\n",
    "                sentiment='negative'\n",
    "            if polarity==0:\n",
    "                sentiment='neutral'\n",
    "\n",
    "            news_dict.append({'website':'CNN','url': cnn_url[i],'headline':link.text,'date':date_list[i],'Day of the Month':day_of_month[i],'Sentiment':sentiment,'Polarity':polarity})"
   ]
  },
  {
   "cell_type": "markdown",
   "metadata": {},
   "source": [
    "### CREATING DATAFRAME  "
   ]
  },
  {
   "cell_type": "code",
   "execution_count": 10,
   "metadata": {},
   "outputs": [],
   "source": [
    "CNN_news_df=pd.DataFrame(news_dict)"
   ]
  },
  {
   "cell_type": "code",
   "execution_count": 11,
   "metadata": {},
   "outputs": [
    {
     "data": {
      "text/html": [
       "<div>\n",
       "<style scoped>\n",
       "    .dataframe tbody tr th:only-of-type {\n",
       "        vertical-align: middle;\n",
       "    }\n",
       "\n",
       "    .dataframe tbody tr th {\n",
       "        vertical-align: top;\n",
       "    }\n",
       "\n",
       "    .dataframe thead th {\n",
       "        text-align: right;\n",
       "    }\n",
       "</style>\n",
       "<table border=\"1\" class=\"dataframe\">\n",
       "  <thead>\n",
       "    <tr style=\"text-align: right;\">\n",
       "      <th></th>\n",
       "      <th>website</th>\n",
       "      <th>url</th>\n",
       "      <th>headline</th>\n",
       "      <th>date</th>\n",
       "      <th>Day of the Month</th>\n",
       "      <th>Sentiment</th>\n",
       "      <th>Polarity</th>\n",
       "    </tr>\n",
       "  </thead>\n",
       "  <tbody>\n",
       "    <tr>\n",
       "      <th>0</th>\n",
       "      <td>CNN</td>\n",
       "      <td>https://www.cnn.com/world/live-news/coronaviru...</td>\n",
       "      <td>8 cases of coronavirus confirmed in Colorado</td>\n",
       "      <td>03-6-20</td>\n",
       "      <td>6</td>\n",
       "      <td>positive</td>\n",
       "      <td>0.400000</td>\n",
       "    </tr>\n",
       "    <tr>\n",
       "      <th>1</th>\n",
       "      <td>CNN</td>\n",
       "      <td>https://www.cnn.com/world/live-news/coronaviru...</td>\n",
       "      <td>Kentucky confirms 1st coronavirus case</td>\n",
       "      <td>03-6-20</td>\n",
       "      <td>6</td>\n",
       "      <td>neutral</td>\n",
       "      <td>0.000000</td>\n",
       "    </tr>\n",
       "    <tr>\n",
       "      <th>2</th>\n",
       "      <td>CNN</td>\n",
       "      <td>https://www.cnn.com/world/live-news/coronaviru...</td>\n",
       "      <td>Cruise passengers not told about coronavirus t...</td>\n",
       "      <td>03-6-20</td>\n",
       "      <td>6</td>\n",
       "      <td>neutral</td>\n",
       "      <td>0.000000</td>\n",
       "    </tr>\n",
       "    <tr>\n",
       "      <th>3</th>\n",
       "      <td>CNN</td>\n",
       "      <td>https://www.cnn.com/world/live-news/coronaviru...</td>\n",
       "      <td>Son of nursing home resident with coronavirus ...</td>\n",
       "      <td>03-6-20</td>\n",
       "      <td>6</td>\n",
       "      <td>neutral</td>\n",
       "      <td>0.000000</td>\n",
       "    </tr>\n",
       "    <tr>\n",
       "      <th>4</th>\n",
       "      <td>CNN</td>\n",
       "      <td>https://www.cnn.com/world/live-news/coronaviru...</td>\n",
       "      <td>California's Santa Clara County confirms 4 new...</td>\n",
       "      <td>03-6-20</td>\n",
       "      <td>6</td>\n",
       "      <td>positive</td>\n",
       "      <td>0.136364</td>\n",
       "    </tr>\n",
       "    <tr>\n",
       "      <th>5</th>\n",
       "      <td>CNN</td>\n",
       "      <td>https://www.cnn.com/world/live-news/coronaviru...</td>\n",
       "      <td>Argentina confirms 6 more novel coronavirus cases</td>\n",
       "      <td>03-6-20</td>\n",
       "      <td>6</td>\n",
       "      <td>positive</td>\n",
       "      <td>0.500000</td>\n",
       "    </tr>\n",
       "    <tr>\n",
       "      <th>6</th>\n",
       "      <td>CNN</td>\n",
       "      <td>https://www.cnn.com/world/live-news/coronaviru...</td>\n",
       "      <td>282 cases of novel coronavirus confirmed in US</td>\n",
       "      <td>03-6-20</td>\n",
       "      <td>6</td>\n",
       "      <td>positive</td>\n",
       "      <td>0.400000</td>\n",
       "    </tr>\n",
       "    <tr>\n",
       "      <th>7</th>\n",
       "      <td>CNN</td>\n",
       "      <td>https://www.cnn.com/world/live-news/coronaviru...</td>\n",
       "      <td>United Arab Emirates announces 15 new coronavi...</td>\n",
       "      <td>03-6-20</td>\n",
       "      <td>6</td>\n",
       "      <td>positive</td>\n",
       "      <td>0.136364</td>\n",
       "    </tr>\n",
       "    <tr>\n",
       "      <th>8</th>\n",
       "      <td>CNN</td>\n",
       "      <td>https://www.cnn.com/world/live-news/coronaviru...</td>\n",
       "      <td>What you need to know</td>\n",
       "      <td>03-10-20</td>\n",
       "      <td>10</td>\n",
       "      <td>neutral</td>\n",
       "      <td>0.000000</td>\n",
       "    </tr>\n",
       "    <tr>\n",
       "      <th>9</th>\n",
       "      <td>CNN</td>\n",
       "      <td>https://www.cnn.com/world/live-news/coronaviru...</td>\n",
       "      <td>Panama reports first coronavirus death</td>\n",
       "      <td>03-10-20</td>\n",
       "      <td>10</td>\n",
       "      <td>positive</td>\n",
       "      <td>0.250000</td>\n",
       "    </tr>\n",
       "    <tr>\n",
       "      <th>10</th>\n",
       "      <td>CNN</td>\n",
       "      <td>https://www.cnn.com/world/live-news/coronaviru...</td>\n",
       "      <td>Big East men's college basketball tournament m...</td>\n",
       "      <td>03-10-20</td>\n",
       "      <td>10</td>\n",
       "      <td>positive</td>\n",
       "      <td>0.068182</td>\n",
       "    </tr>\n",
       "    <tr>\n",
       "      <th>11</th>\n",
       "      <td>CNN</td>\n",
       "      <td>https://www.cnn.com/world/live-news/coronaviru...</td>\n",
       "      <td>Woman in Italy is stuck with the body of her h...</td>\n",
       "      <td>03-10-20</td>\n",
       "      <td>10</td>\n",
       "      <td>neutral</td>\n",
       "      <td>0.000000</td>\n",
       "    </tr>\n",
       "    <tr>\n",
       "      <th>12</th>\n",
       "      <td>CNN</td>\n",
       "      <td>https://www.cnn.com/world/live-news/coronaviru...</td>\n",
       "      <td>California universities are holding online cla...</td>\n",
       "      <td>03-10-20</td>\n",
       "      <td>10</td>\n",
       "      <td>neutral</td>\n",
       "      <td>0.000000</td>\n",
       "    </tr>\n",
       "    <tr>\n",
       "      <th>13</th>\n",
       "      <td>CNN</td>\n",
       "      <td>https://www.cnn.com/world/live-news/coronaviru...</td>\n",
       "      <td>Portugal suspends flights to Italy for 14 days</td>\n",
       "      <td>03-10-20</td>\n",
       "      <td>10</td>\n",
       "      <td>neutral</td>\n",
       "      <td>0.000000</td>\n",
       "    </tr>\n",
       "    <tr>\n",
       "      <th>14</th>\n",
       "      <td>CNN</td>\n",
       "      <td>https://www.cnn.com/world/live-news/coronaviru...</td>\n",
       "      <td>Chile announces quarantine for people entering...</td>\n",
       "      <td>03-10-20</td>\n",
       "      <td>10</td>\n",
       "      <td>neutral</td>\n",
       "      <td>0.000000</td>\n",
       "    </tr>\n",
       "    <tr>\n",
       "      <th>15</th>\n",
       "      <td>CNN</td>\n",
       "      <td>https://www.cnn.com/world/live-news/coronaviru...</td>\n",
       "      <td>Coachella and Stagecoach music festivals postp...</td>\n",
       "      <td>03-10-20</td>\n",
       "      <td>10</td>\n",
       "      <td>neutral</td>\n",
       "      <td>0.000000</td>\n",
       "    </tr>\n",
       "    <tr>\n",
       "      <th>16</th>\n",
       "      <td>CNN</td>\n",
       "      <td>https://www.cnn.com/world/live-news/coronaviru...</td>\n",
       "      <td>UK's junior health minister has contracted cor...</td>\n",
       "      <td>03-10-20</td>\n",
       "      <td>10</td>\n",
       "      <td>neutral</td>\n",
       "      <td>0.000000</td>\n",
       "    </tr>\n",
       "    <tr>\n",
       "      <th>17</th>\n",
       "      <td>CNN</td>\n",
       "      <td>https://www.cnn.com/world/live-news/coronaviru...</td>\n",
       "      <td>What you need to know</td>\n",
       "      <td>03-11-20</td>\n",
       "      <td>11</td>\n",
       "      <td>neutral</td>\n",
       "      <td>0.000000</td>\n",
       "    </tr>\n",
       "    <tr>\n",
       "      <th>18</th>\n",
       "      <td>CNN</td>\n",
       "      <td>https://www.cnn.com/world/live-news/coronaviru...</td>\n",
       "      <td>The US now has 1,267 cases of the coronavirus</td>\n",
       "      <td>03-11-20</td>\n",
       "      <td>11</td>\n",
       "      <td>neutral</td>\n",
       "      <td>0.000000</td>\n",
       "    </tr>\n",
       "    <tr>\n",
       "      <th>19</th>\n",
       "      <td>CNN</td>\n",
       "      <td>https://www.cnn.com/world/live-news/coronaviru...</td>\n",
       "      <td>European officials say they were blindsided by...</td>\n",
       "      <td>03-11-20</td>\n",
       "      <td>11</td>\n",
       "      <td>positive</td>\n",
       "      <td>0.068182</td>\n",
       "    </tr>\n",
       "  </tbody>\n",
       "</table>\n",
       "</div>"
      ],
      "text/plain": [
       "   website                                                url  \\\n",
       "0      CNN  https://www.cnn.com/world/live-news/coronaviru...   \n",
       "1      CNN  https://www.cnn.com/world/live-news/coronaviru...   \n",
       "2      CNN  https://www.cnn.com/world/live-news/coronaviru...   \n",
       "3      CNN  https://www.cnn.com/world/live-news/coronaviru...   \n",
       "4      CNN  https://www.cnn.com/world/live-news/coronaviru...   \n",
       "5      CNN  https://www.cnn.com/world/live-news/coronaviru...   \n",
       "6      CNN  https://www.cnn.com/world/live-news/coronaviru...   \n",
       "7      CNN  https://www.cnn.com/world/live-news/coronaviru...   \n",
       "8      CNN  https://www.cnn.com/world/live-news/coronaviru...   \n",
       "9      CNN  https://www.cnn.com/world/live-news/coronaviru...   \n",
       "10     CNN  https://www.cnn.com/world/live-news/coronaviru...   \n",
       "11     CNN  https://www.cnn.com/world/live-news/coronaviru...   \n",
       "12     CNN  https://www.cnn.com/world/live-news/coronaviru...   \n",
       "13     CNN  https://www.cnn.com/world/live-news/coronaviru...   \n",
       "14     CNN  https://www.cnn.com/world/live-news/coronaviru...   \n",
       "15     CNN  https://www.cnn.com/world/live-news/coronaviru...   \n",
       "16     CNN  https://www.cnn.com/world/live-news/coronaviru...   \n",
       "17     CNN  https://www.cnn.com/world/live-news/coronaviru...   \n",
       "18     CNN  https://www.cnn.com/world/live-news/coronaviru...   \n",
       "19     CNN  https://www.cnn.com/world/live-news/coronaviru...   \n",
       "\n",
       "                                             headline      date  \\\n",
       "0        8 cases of coronavirus confirmed in Colorado   03-6-20   \n",
       "1              Kentucky confirms 1st coronavirus case   03-6-20   \n",
       "2   Cruise passengers not told about coronavirus t...   03-6-20   \n",
       "3   Son of nursing home resident with coronavirus ...   03-6-20   \n",
       "4   California's Santa Clara County confirms 4 new...   03-6-20   \n",
       "5   Argentina confirms 6 more novel coronavirus cases   03-6-20   \n",
       "6      282 cases of novel coronavirus confirmed in US   03-6-20   \n",
       "7   United Arab Emirates announces 15 new coronavi...   03-6-20   \n",
       "8                               What you need to know  03-10-20   \n",
       "9              Panama reports first coronavirus death  03-10-20   \n",
       "10  Big East men's college basketball tournament m...  03-10-20   \n",
       "11  Woman in Italy is stuck with the body of her h...  03-10-20   \n",
       "12  California universities are holding online cla...  03-10-20   \n",
       "13     Portugal suspends flights to Italy for 14 days  03-10-20   \n",
       "14  Chile announces quarantine for people entering...  03-10-20   \n",
       "15  Coachella and Stagecoach music festivals postp...  03-10-20   \n",
       "16  UK's junior health minister has contracted cor...  03-10-20   \n",
       "17                              What you need to know  03-11-20   \n",
       "18      The US now has 1,267 cases of the coronavirus  03-11-20   \n",
       "19  European officials say they were blindsided by...  03-11-20   \n",
       "\n",
       "    Day of the Month Sentiment  Polarity  \n",
       "0                  6  positive  0.400000  \n",
       "1                  6   neutral  0.000000  \n",
       "2                  6   neutral  0.000000  \n",
       "3                  6   neutral  0.000000  \n",
       "4                  6  positive  0.136364  \n",
       "5                  6  positive  0.500000  \n",
       "6                  6  positive  0.400000  \n",
       "7                  6  positive  0.136364  \n",
       "8                 10   neutral  0.000000  \n",
       "9                 10  positive  0.250000  \n",
       "10                10  positive  0.068182  \n",
       "11                10   neutral  0.000000  \n",
       "12                10   neutral  0.000000  \n",
       "13                10   neutral  0.000000  \n",
       "14                10   neutral  0.000000  \n",
       "15                10   neutral  0.000000  \n",
       "16                10   neutral  0.000000  \n",
       "17                11   neutral  0.000000  \n",
       "18                11   neutral  0.000000  \n",
       "19                11  positive  0.068182  "
      ]
     },
     "execution_count": 11,
     "metadata": {},
     "output_type": "execute_result"
    }
   ],
   "source": [
    "CNN_news_df.head(20)"
   ]
  },
  {
   "cell_type": "code",
   "execution_count": 12,
   "metadata": {},
   "outputs": [
    {
     "data": {
      "text/plain": [
       "(179, 7)"
      ]
     },
     "execution_count": 12,
     "metadata": {},
     "output_type": "execute_result"
    }
   ],
   "source": [
    "CNN_news_df.shape"
   ]
  },
  {
   "cell_type": "markdown",
   "metadata": {},
   "source": [
    "### FOR NDTV NEWS "
   ]
  },
  {
   "cell_type": "code",
   "execution_count": 13,
   "metadata": {},
   "outputs": [],
   "source": [
    "ndtv_url=[]\n",
    "for i in range(1,31):\n",
    "    ndtv_url.append('https://www.ndtv.com/topic/march-{}'.format(i))"
   ]
  },
  {
   "cell_type": "code",
   "execution_count": 14,
   "metadata": {},
   "outputs": [],
   "source": [
    "news_dict=[]\n",
    "for i in range(0,30):\n",
    "    response = requests.get(ndtv_url[i])\n",
    "    soup = BeautifulSoup(response.content,'html.parser')\n",
    "\n",
    "    for link in soup.find_all('strong'):\n",
    "        if(len(link.text.split(\" \")) > 4):\n",
    "            polarity=TextBlob(link.text).sentiment.polarity\n",
    "            if polarity>0:\n",
    "                sentiment='positive'\n",
    "            if polarity<0:\n",
    "                sentiment='negative'\n",
    "            if polarity==0:\n",
    "                sentiment='neutral'\n",
    "\n",
    "            news_dict.append({'website':\"NDTV\",'url': ndtv_url[i],'headline':link.text,'date':date_list[i],'Day of the Month':day_of_month[i],'Sentiment':sentiment,'Polarity':polarity})"
   ]
  },
  {
   "cell_type": "markdown",
   "metadata": {},
   "source": [
    "### CREATING DATAFRAME "
   ]
  },
  {
   "cell_type": "code",
   "execution_count": 15,
   "metadata": {},
   "outputs": [],
   "source": [
    "NDTV_news_df=pd.DataFrame(news_dict)"
   ]
  },
  {
   "cell_type": "code",
   "execution_count": 16,
   "metadata": {},
   "outputs": [
    {
     "data": {
      "text/html": [
       "<div>\n",
       "<style scoped>\n",
       "    .dataframe tbody tr th:only-of-type {\n",
       "        vertical-align: middle;\n",
       "    }\n",
       "\n",
       "    .dataframe tbody tr th {\n",
       "        vertical-align: top;\n",
       "    }\n",
       "\n",
       "    .dataframe thead th {\n",
       "        text-align: right;\n",
       "    }\n",
       "</style>\n",
       "<table border=\"1\" class=\"dataframe\">\n",
       "  <thead>\n",
       "    <tr style=\"text-align: right;\">\n",
       "      <th></th>\n",
       "      <th>website</th>\n",
       "      <th>url</th>\n",
       "      <th>headline</th>\n",
       "      <th>date</th>\n",
       "      <th>Day of the Month</th>\n",
       "      <th>Sentiment</th>\n",
       "      <th>Polarity</th>\n",
       "    </tr>\n",
       "  </thead>\n",
       "  <tbody>\n",
       "    <tr>\n",
       "      <th>0</th>\n",
       "      <td>NDTV</td>\n",
       "      <td>https://www.ndtv.com/topic/march-1</td>\n",
       "      <td>Assam PAT 2020: Application Dates Extended Til...</td>\n",
       "      <td>03-1-20</td>\n",
       "      <td>1</td>\n",
       "      <td>neutral</td>\n",
       "      <td>0.000000</td>\n",
       "    </tr>\n",
       "    <tr>\n",
       "      <th>1</th>\n",
       "      <td>NDTV</td>\n",
       "      <td>https://www.ndtv.com/topic/march-1</td>\n",
       "      <td>Coronavirus: RBI Extends Moratorium On Auto Lo...</td>\n",
       "      <td>03-1-20</td>\n",
       "      <td>1</td>\n",
       "      <td>positive</td>\n",
       "      <td>0.500000</td>\n",
       "    </tr>\n",
       "    <tr>\n",
       "      <th>2</th>\n",
       "      <td>NDTV</td>\n",
       "      <td>https://www.ndtv.com/topic/march-1</td>\n",
       "      <td>Coronavirus Lockdown: Skoda Grants Extension O...</td>\n",
       "      <td>03-1-20</td>\n",
       "      <td>1</td>\n",
       "      <td>positive</td>\n",
       "      <td>0.136364</td>\n",
       "    </tr>\n",
       "    <tr>\n",
       "      <th>3</th>\n",
       "      <td>NDTV</td>\n",
       "      <td>https://www.ndtv.com/topic/march-1</td>\n",
       "      <td>Coronavirus Lockdown: CEAT Extends Warranty On...</td>\n",
       "      <td>03-1-20</td>\n",
       "      <td>1</td>\n",
       "      <td>neutral</td>\n",
       "      <td>0.000000</td>\n",
       "    </tr>\n",
       "    <tr>\n",
       "      <th>4</th>\n",
       "      <td>NDTV</td>\n",
       "      <td>https://www.ndtv.com/topic/march-1</td>\n",
       "      <td>Coronavirus Pandemic: Porsche Extends Warranty...</td>\n",
       "      <td>03-1-20</td>\n",
       "      <td>1</td>\n",
       "      <td>neutral</td>\n",
       "      <td>0.000000</td>\n",
       "    </tr>\n",
       "    <tr>\n",
       "      <th>5</th>\n",
       "      <td>NDTV</td>\n",
       "      <td>https://www.ndtv.com/topic/march-1</td>\n",
       "      <td>Coronavirus: Piaggio Extends Warranty And Free...</td>\n",
       "      <td>03-1-20</td>\n",
       "      <td>1</td>\n",
       "      <td>positive</td>\n",
       "      <td>0.200000</td>\n",
       "    </tr>\n",
       "    <tr>\n",
       "      <th>6</th>\n",
       "      <td>NDTV</td>\n",
       "      <td>https://www.ndtv.com/topic/march-1</td>\n",
       "      <td>In Relief For Borrowers, RBI Eases Norms On Lo...</td>\n",
       "      <td>03-1-20</td>\n",
       "      <td>1</td>\n",
       "      <td>neutral</td>\n",
       "      <td>0.000000</td>\n",
       "    </tr>\n",
       "    <tr>\n",
       "      <th>7</th>\n",
       "      <td>NDTV</td>\n",
       "      <td>https://www.ndtv.com/topic/march-1</td>\n",
       "      <td>Indian Banks Association Answers All Questions...</td>\n",
       "      <td>03-1-20</td>\n",
       "      <td>1</td>\n",
       "      <td>neutral</td>\n",
       "      <td>0.000000</td>\n",
       "    </tr>\n",
       "    <tr>\n",
       "      <th>8</th>\n",
       "      <td>NDTV</td>\n",
       "      <td>https://www.ndtv.com/topic/march-1</td>\n",
       "      <td>OnePlus Extends Warranty and Return Period on ...</td>\n",
       "      <td>03-1-20</td>\n",
       "      <td>1</td>\n",
       "      <td>neutral</td>\n",
       "      <td>0.000000</td>\n",
       "    </tr>\n",
       "    <tr>\n",
       "      <th>9</th>\n",
       "      <td>NDTV</td>\n",
       "      <td>https://www.ndtv.com/topic/march-1</td>\n",
       "      <td>Coronavirus: Delhi Officials To Check If 35,00...</td>\n",
       "      <td>03-1-20</td>\n",
       "      <td>1</td>\n",
       "      <td>negative</td>\n",
       "      <td>-0.125000</td>\n",
       "    </tr>\n",
       "    <tr>\n",
       "      <th>10</th>\n",
       "      <td>NDTV</td>\n",
       "      <td>https://www.ndtv.com/topic/march-1</td>\n",
       "      <td>TANCET 2020 Result Expected This Month</td>\n",
       "      <td>03-1-20</td>\n",
       "      <td>1</td>\n",
       "      <td>negative</td>\n",
       "      <td>-0.100000</td>\n",
       "    </tr>\n",
       "    <tr>\n",
       "      <th>11</th>\n",
       "      <td>NDTV</td>\n",
       "      <td>https://www.ndtv.com/topic/march-1</td>\n",
       "      <td>Netflix March 2020 Releases: Kiara Advani, Man...</td>\n",
       "      <td>03-1-20</td>\n",
       "      <td>1</td>\n",
       "      <td>positive</td>\n",
       "      <td>0.500000</td>\n",
       "    </tr>\n",
       "    <tr>\n",
       "      <th>12</th>\n",
       "      <td>NDTV</td>\n",
       "      <td>https://www.ndtv.com/topic/march-1</td>\n",
       "      <td>Samsung Galaxy S10 Lite 512GB Storage Variant ...</td>\n",
       "      <td>03-1-20</td>\n",
       "      <td>1</td>\n",
       "      <td>positive</td>\n",
       "      <td>0.100000</td>\n",
       "    </tr>\n",
       "    <tr>\n",
       "      <th>13</th>\n",
       "      <td>NDTV</td>\n",
       "      <td>https://www.ndtv.com/topic/march-1</td>\n",
       "      <td>Skoda Octavia RS 245 Online Bookings To Open O...</td>\n",
       "      <td>03-1-20</td>\n",
       "      <td>1</td>\n",
       "      <td>neutral</td>\n",
       "      <td>0.000000</td>\n",
       "    </tr>\n",
       "    <tr>\n",
       "      <th>14</th>\n",
       "      <td>NDTV</td>\n",
       "      <td>https://www.ndtv.com/topic/march-1</td>\n",
       "      <td>Jharkhand To Conduct 2017, 2018, 2019 Combined...</td>\n",
       "      <td>03-1-20</td>\n",
       "      <td>1</td>\n",
       "      <td>neutral</td>\n",
       "      <td>0.000000</td>\n",
       "    </tr>\n",
       "    <tr>\n",
       "      <th>15</th>\n",
       "      <td>NDTV</td>\n",
       "      <td>https://www.ndtv.com/topic/march-1</td>\n",
       "      <td>State-Run Banks Allow Loan Borrowers To Delay ...</td>\n",
       "      <td>03-1-20</td>\n",
       "      <td>1</td>\n",
       "      <td>neutral</td>\n",
       "      <td>0.000000</td>\n",
       "    </tr>\n",
       "    <tr>\n",
       "      <th>16</th>\n",
       "      <td>NDTV</td>\n",
       "      <td>https://www.ndtv.com/topic/march-1</td>\n",
       "      <td>The Biggest Stories Of March 1, 2020</td>\n",
       "      <td>03-1-20</td>\n",
       "      <td>1</td>\n",
       "      <td>neutral</td>\n",
       "      <td>0.000000</td>\n",
       "    </tr>\n",
       "    <tr>\n",
       "      <th>17</th>\n",
       "      <td>NDTV</td>\n",
       "      <td>https://www.ndtv.com/topic/march-1</td>\n",
       "      <td>The Biggest Stories Of March 1, 2019</td>\n",
       "      <td>03-1-20</td>\n",
       "      <td>1</td>\n",
       "      <td>neutral</td>\n",
       "      <td>0.000000</td>\n",
       "    </tr>\n",
       "    <tr>\n",
       "      <th>18</th>\n",
       "      <td>NDTV</td>\n",
       "      <td>https://www.ndtv.com/topic/march-1</td>\n",
       "      <td>\"We Stand As One Nation Today\": Arvind Kejriwa...</td>\n",
       "      <td>03-1-20</td>\n",
       "      <td>1</td>\n",
       "      <td>neutral</td>\n",
       "      <td>0.000000</td>\n",
       "    </tr>\n",
       "    <tr>\n",
       "      <th>19</th>\n",
       "      <td>NDTV</td>\n",
       "      <td>https://www.ndtv.com/topic/march-1</td>\n",
       "      <td>Arvind Kejriwal On Indefinite Fast From March ...</td>\n",
       "      <td>03-1-20</td>\n",
       "      <td>1</td>\n",
       "      <td>positive</td>\n",
       "      <td>0.200000</td>\n",
       "    </tr>\n",
       "  </tbody>\n",
       "</table>\n",
       "</div>"
      ],
      "text/plain": [
       "   website                                 url  \\\n",
       "0     NDTV  https://www.ndtv.com/topic/march-1   \n",
       "1     NDTV  https://www.ndtv.com/topic/march-1   \n",
       "2     NDTV  https://www.ndtv.com/topic/march-1   \n",
       "3     NDTV  https://www.ndtv.com/topic/march-1   \n",
       "4     NDTV  https://www.ndtv.com/topic/march-1   \n",
       "5     NDTV  https://www.ndtv.com/topic/march-1   \n",
       "6     NDTV  https://www.ndtv.com/topic/march-1   \n",
       "7     NDTV  https://www.ndtv.com/topic/march-1   \n",
       "8     NDTV  https://www.ndtv.com/topic/march-1   \n",
       "9     NDTV  https://www.ndtv.com/topic/march-1   \n",
       "10    NDTV  https://www.ndtv.com/topic/march-1   \n",
       "11    NDTV  https://www.ndtv.com/topic/march-1   \n",
       "12    NDTV  https://www.ndtv.com/topic/march-1   \n",
       "13    NDTV  https://www.ndtv.com/topic/march-1   \n",
       "14    NDTV  https://www.ndtv.com/topic/march-1   \n",
       "15    NDTV  https://www.ndtv.com/topic/march-1   \n",
       "16    NDTV  https://www.ndtv.com/topic/march-1   \n",
       "17    NDTV  https://www.ndtv.com/topic/march-1   \n",
       "18    NDTV  https://www.ndtv.com/topic/march-1   \n",
       "19    NDTV  https://www.ndtv.com/topic/march-1   \n",
       "\n",
       "                                             headline     date  \\\n",
       "0   Assam PAT 2020: Application Dates Extended Til...  03-1-20   \n",
       "1   Coronavirus: RBI Extends Moratorium On Auto Lo...  03-1-20   \n",
       "2   Coronavirus Lockdown: Skoda Grants Extension O...  03-1-20   \n",
       "3   Coronavirus Lockdown: CEAT Extends Warranty On...  03-1-20   \n",
       "4   Coronavirus Pandemic: Porsche Extends Warranty...  03-1-20   \n",
       "5   Coronavirus: Piaggio Extends Warranty And Free...  03-1-20   \n",
       "6   In Relief For Borrowers, RBI Eases Norms On Lo...  03-1-20   \n",
       "7   Indian Banks Association Answers All Questions...  03-1-20   \n",
       "8   OnePlus Extends Warranty and Return Period on ...  03-1-20   \n",
       "9   Coronavirus: Delhi Officials To Check If 35,00...  03-1-20   \n",
       "10             TANCET 2020 Result Expected This Month  03-1-20   \n",
       "11  Netflix March 2020 Releases: Kiara Advani, Man...  03-1-20   \n",
       "12  Samsung Galaxy S10 Lite 512GB Storage Variant ...  03-1-20   \n",
       "13  Skoda Octavia RS 245 Online Bookings To Open O...  03-1-20   \n",
       "14  Jharkhand To Conduct 2017, 2018, 2019 Combined...  03-1-20   \n",
       "15  State-Run Banks Allow Loan Borrowers To Delay ...  03-1-20   \n",
       "16               The Biggest Stories Of March 1, 2020  03-1-20   \n",
       "17               The Biggest Stories Of March 1, 2019  03-1-20   \n",
       "18  \"We Stand As One Nation Today\": Arvind Kejriwa...  03-1-20   \n",
       "19  Arvind Kejriwal On Indefinite Fast From March ...  03-1-20   \n",
       "\n",
       "    Day of the Month Sentiment  Polarity  \n",
       "0                  1   neutral  0.000000  \n",
       "1                  1  positive  0.500000  \n",
       "2                  1  positive  0.136364  \n",
       "3                  1   neutral  0.000000  \n",
       "4                  1   neutral  0.000000  \n",
       "5                  1  positive  0.200000  \n",
       "6                  1   neutral  0.000000  \n",
       "7                  1   neutral  0.000000  \n",
       "8                  1   neutral  0.000000  \n",
       "9                  1  negative -0.125000  \n",
       "10                 1  negative -0.100000  \n",
       "11                 1  positive  0.500000  \n",
       "12                 1  positive  0.100000  \n",
       "13                 1   neutral  0.000000  \n",
       "14                 1   neutral  0.000000  \n",
       "15                 1   neutral  0.000000  \n",
       "16                 1   neutral  0.000000  \n",
       "17                 1   neutral  0.000000  \n",
       "18                 1   neutral  0.000000  \n",
       "19                 1  positive  0.200000  "
      ]
     },
     "execution_count": 16,
     "metadata": {},
     "output_type": "execute_result"
    }
   ],
   "source": [
    "NDTV_news_df.head(20)"
   ]
  },
  {
   "cell_type": "code",
   "execution_count": 17,
   "metadata": {},
   "outputs": [
    {
     "data": {
      "text/plain": [
       "(1738, 7)"
      ]
     },
     "execution_count": 17,
     "metadata": {},
     "output_type": "execute_result"
    }
   ],
   "source": [
    "NDTV_news_df.shape"
   ]
  },
  {
   "cell_type": "markdown",
   "metadata": {},
   "source": [
    "### FOR NYTIMES NEWS "
   ]
  },
  {
   "cell_type": "code",
   "execution_count": 18,
   "metadata": {},
   "outputs": [],
   "source": [
    "nytimes_url=[]\n",
    "for i in range(1,31):\n",
    "    if i in [1,2,3,4,5,6,7,8,9]:\n",
    "        i='0{}'.format(i)\n",
    "    nytimes_url.append('https://www.irishtimes.com/static/articleindex/2020/2020-03-{}.html'.format(i))"
   ]
  },
  {
   "cell_type": "code",
   "execution_count": 19,
   "metadata": {},
   "outputs": [],
   "source": [
    "news_dict=[]\n",
    "for i in range(0,30):\n",
    "    response = requests.get(nytimes_url[i])\n",
    "    soup = BeautifulSoup(response.content,'html.parser')\n",
    "\n",
    "    for link in soup.find_all('a'):\n",
    "        if(len(link.text.split(\" \")) > 4):\n",
    "            polarity=TextBlob(link.text).sentiment.polarity\n",
    "            if polarity>0:\n",
    "                sentiment='positive'\n",
    "            if polarity<0:\n",
    "                sentiment='negative'\n",
    "            if polarity==0:\n",
    "                sentiment='neutral'\n",
    "\n",
    "            news_dict.append({'website':'NYTIMES','url': nytimes_url[i],'headline':link.text,'date':date_list[i],'Day of the Month':day_of_month[i],'Sentiment':sentiment,'Polarity':polarity})"
   ]
  },
  {
   "cell_type": "markdown",
   "metadata": {},
   "source": [
    "### CREATING DATAFRAME "
   ]
  },
  {
   "cell_type": "code",
   "execution_count": 20,
   "metadata": {},
   "outputs": [],
   "source": [
    "NYTIMES_news_df=pd.DataFrame(news_dict)"
   ]
  },
  {
   "cell_type": "code",
   "execution_count": 21,
   "metadata": {},
   "outputs": [
    {
     "data": {
      "text/html": [
       "<div>\n",
       "<style scoped>\n",
       "    .dataframe tbody tr th:only-of-type {\n",
       "        vertical-align: middle;\n",
       "    }\n",
       "\n",
       "    .dataframe tbody tr th {\n",
       "        vertical-align: top;\n",
       "    }\n",
       "\n",
       "    .dataframe thead th {\n",
       "        text-align: right;\n",
       "    }\n",
       "</style>\n",
       "<table border=\"1\" class=\"dataframe\">\n",
       "  <thead>\n",
       "    <tr style=\"text-align: right;\">\n",
       "      <th></th>\n",
       "      <th>website</th>\n",
       "      <th>url</th>\n",
       "      <th>headline</th>\n",
       "      <th>date</th>\n",
       "      <th>Day of the Month</th>\n",
       "      <th>Sentiment</th>\n",
       "      <th>Polarity</th>\n",
       "    </tr>\n",
       "  </thead>\n",
       "  <tbody>\n",
       "    <tr>\n",
       "      <th>0</th>\n",
       "      <td>NYTIMES</td>\n",
       "      <td>https://www.irishtimes.com/static/articleindex...</td>\n",
       "      <td>The Irish Times</td>\n",
       "      <td>03-1-20</td>\n",
       "      <td>1</td>\n",
       "      <td>neutral</td>\n",
       "      <td>0.000000</td>\n",
       "    </tr>\n",
       "    <tr>\n",
       "      <th>1</th>\n",
       "      <td>NYTIMES</td>\n",
       "      <td>https://www.irishtimes.com/static/articleindex...</td>\n",
       "      <td>‹ Feb 29th 2020\\n</td>\n",
       "      <td>03-1-20</td>\n",
       "      <td>1</td>\n",
       "      <td>neutral</td>\n",
       "      <td>0.000000</td>\n",
       "    </tr>\n",
       "    <tr>\n",
       "      <th>2</th>\n",
       "      <td>NYTIMES</td>\n",
       "      <td>https://www.irishtimes.com/static/articleindex...</td>\n",
       "      <td>Mar 2nd 2020\\n                            ›</td>\n",
       "      <td>03-1-20</td>\n",
       "      <td>1</td>\n",
       "      <td>neutral</td>\n",
       "      <td>0.000000</td>\n",
       "    </tr>\n",
       "    <tr>\n",
       "      <th>3</th>\n",
       "      <td>NYTIMES</td>\n",
       "      <td>https://www.irishtimes.com/static/articleindex...</td>\n",
       "      <td>Joe Biden wins crucial South Carolina primary ...</td>\n",
       "      <td>03-1-20</td>\n",
       "      <td>1</td>\n",
       "      <td>positive</td>\n",
       "      <td>0.258333</td>\n",
       "    </tr>\n",
       "    <tr>\n",
       "      <th>4</th>\n",
       "      <td>NYTIMES</td>\n",
       "      <td>https://www.irishtimes.com/static/articleindex...</td>\n",
       "      <td>Teenage girl dies in single vehicle crash in C...</td>\n",
       "      <td>03-1-20</td>\n",
       "      <td>1</td>\n",
       "      <td>negative</td>\n",
       "      <td>-0.035714</td>\n",
       "    </tr>\n",
       "    <tr>\n",
       "      <th>5</th>\n",
       "      <td>NYTIMES</td>\n",
       "      <td>https://www.irishtimes.com/static/articleindex...</td>\n",
       "      <td>Storm Jorge: Flooding danger this week as rain...</td>\n",
       "      <td>03-1-20</td>\n",
       "      <td>1</td>\n",
       "      <td>neutral</td>\n",
       "      <td>0.000000</td>\n",
       "    </tr>\n",
       "    <tr>\n",
       "      <th>6</th>\n",
       "      <td>NYTIMES</td>\n",
       "      <td>https://www.irishtimes.com/static/articleindex...</td>\n",
       "      <td>Thousands try to enter Greece after Turkey ope...</td>\n",
       "      <td>03-1-20</td>\n",
       "      <td>1</td>\n",
       "      <td>neutral</td>\n",
       "      <td>0.000000</td>\n",
       "    </tr>\n",
       "    <tr>\n",
       "      <th>7</th>\n",
       "      <td>NYTIMES</td>\n",
       "      <td>https://www.irishtimes.com/static/articleindex...</td>\n",
       "      <td>Coronavirus: UK confirms 36 cases as 13 more p...</td>\n",
       "      <td>03-1-20</td>\n",
       "      <td>1</td>\n",
       "      <td>positive</td>\n",
       "      <td>0.500000</td>\n",
       "    </tr>\n",
       "    <tr>\n",
       "      <th>8</th>\n",
       "      <td>NYTIMES</td>\n",
       "      <td>https://www.irishtimes.com/static/articleindex...</td>\n",
       "      <td>Afghan president rejects Taliban demand to fre...</td>\n",
       "      <td>03-1-20</td>\n",
       "      <td>1</td>\n",
       "      <td>positive</td>\n",
       "      <td>0.400000</td>\n",
       "    </tr>\n",
       "    <tr>\n",
       "      <th>9</th>\n",
       "      <td>NYTIMES</td>\n",
       "      <td>https://www.irishtimes.com/static/articleindex...</td>\n",
       "      <td>Pope Francis to miss Lenten spiritual retreat ...</td>\n",
       "      <td>03-1-20</td>\n",
       "      <td>1</td>\n",
       "      <td>positive</td>\n",
       "      <td>0.125000</td>\n",
       "    </tr>\n",
       "    <tr>\n",
       "      <th>10</th>\n",
       "      <td>NYTIMES</td>\n",
       "      <td>https://www.irishtimes.com/static/articleindex...</td>\n",
       "      <td>Life imitates art as actor in plague movie end...</td>\n",
       "      <td>03-1-20</td>\n",
       "      <td>1</td>\n",
       "      <td>neutral</td>\n",
       "      <td>0.000000</td>\n",
       "    </tr>\n",
       "    <tr>\n",
       "      <th>11</th>\n",
       "      <td>NYTIMES</td>\n",
       "      <td>https://www.irishtimes.com/static/articleindex...</td>\n",
       "      <td>Victims of Louth crash were mother, son and yo...</td>\n",
       "      <td>03-1-20</td>\n",
       "      <td>1</td>\n",
       "      <td>positive</td>\n",
       "      <td>0.100000</td>\n",
       "    </tr>\n",
       "    <tr>\n",
       "      <th>12</th>\n",
       "      <td>NYTIMES</td>\n",
       "      <td>https://www.irishtimes.com/static/articleindex...</td>\n",
       "      <td>Turkey destroys scores of Syrian army targets ...</td>\n",
       "      <td>03-1-20</td>\n",
       "      <td>1</td>\n",
       "      <td>neutral</td>\n",
       "      <td>0.000000</td>\n",
       "    </tr>\n",
       "    <tr>\n",
       "      <th>13</th>\n",
       "      <td>NYTIMES</td>\n",
       "      <td>https://www.irishtimes.com/static/articleindex...</td>\n",
       "      <td>Coast Guard rescues surfers who went out to se...</td>\n",
       "      <td>03-1-20</td>\n",
       "      <td>1</td>\n",
       "      <td>neutral</td>\n",
       "      <td>0.000000</td>\n",
       "    </tr>\n",
       "    <tr>\n",
       "      <th>14</th>\n",
       "      <td>NYTIMES</td>\n",
       "      <td>https://www.irishtimes.com/static/articleindex...</td>\n",
       "      <td>SF’s Lynn Boylan among those running for Seanad</td>\n",
       "      <td>03-1-20</td>\n",
       "      <td>1</td>\n",
       "      <td>neutral</td>\n",
       "      <td>0.000000</td>\n",
       "    </tr>\n",
       "    <tr>\n",
       "      <th>15</th>\n",
       "      <td>NYTIMES</td>\n",
       "      <td>https://www.irishtimes.com/static/articleindex...</td>\n",
       "      <td>Fourth Israeli election likely outcome of thir...</td>\n",
       "      <td>03-1-20</td>\n",
       "      <td>1</td>\n",
       "      <td>neutral</td>\n",
       "      <td>0.000000</td>\n",
       "    </tr>\n",
       "    <tr>\n",
       "      <th>16</th>\n",
       "      <td>NYTIMES</td>\n",
       "      <td>https://www.irishtimes.com/static/articleindex...</td>\n",
       "      <td>Focus Ireland calls for rent freeze to tackle ...</td>\n",
       "      <td>03-1-20</td>\n",
       "      <td>1</td>\n",
       "      <td>neutral</td>\n",
       "      <td>0.000000</td>\n",
       "    </tr>\n",
       "    <tr>\n",
       "      <th>17</th>\n",
       "      <td>NYTIMES</td>\n",
       "      <td>https://www.irishtimes.com/static/articleindex...</td>\n",
       "      <td>Brexit negotiations kick off in Brussels</td>\n",
       "      <td>03-1-20</td>\n",
       "      <td>1</td>\n",
       "      <td>neutral</td>\n",
       "      <td>0.000000</td>\n",
       "    </tr>\n",
       "    <tr>\n",
       "      <th>18</th>\n",
       "      <td>NYTIMES</td>\n",
       "      <td>https://www.irishtimes.com/static/articleindex...</td>\n",
       "      <td>Driver crashes through level crossing barrier ...</td>\n",
       "      <td>03-1-20</td>\n",
       "      <td>1</td>\n",
       "      <td>neutral</td>\n",
       "      <td>0.000000</td>\n",
       "    </tr>\n",
       "    <tr>\n",
       "      <th>19</th>\n",
       "      <td>NYTIMES</td>\n",
       "      <td>https://www.irishtimes.com/static/articleindex...</td>\n",
       "      <td>Car crashes through level crossing barriers at...</td>\n",
       "      <td>03-1-20</td>\n",
       "      <td>1</td>\n",
       "      <td>neutral</td>\n",
       "      <td>0.000000</td>\n",
       "    </tr>\n",
       "  </tbody>\n",
       "</table>\n",
       "</div>"
      ],
      "text/plain": [
       "    website                                                url  \\\n",
       "0   NYTIMES  https://www.irishtimes.com/static/articleindex...   \n",
       "1   NYTIMES  https://www.irishtimes.com/static/articleindex...   \n",
       "2   NYTIMES  https://www.irishtimes.com/static/articleindex...   \n",
       "3   NYTIMES  https://www.irishtimes.com/static/articleindex...   \n",
       "4   NYTIMES  https://www.irishtimes.com/static/articleindex...   \n",
       "5   NYTIMES  https://www.irishtimes.com/static/articleindex...   \n",
       "6   NYTIMES  https://www.irishtimes.com/static/articleindex...   \n",
       "7   NYTIMES  https://www.irishtimes.com/static/articleindex...   \n",
       "8   NYTIMES  https://www.irishtimes.com/static/articleindex...   \n",
       "9   NYTIMES  https://www.irishtimes.com/static/articleindex...   \n",
       "10  NYTIMES  https://www.irishtimes.com/static/articleindex...   \n",
       "11  NYTIMES  https://www.irishtimes.com/static/articleindex...   \n",
       "12  NYTIMES  https://www.irishtimes.com/static/articleindex...   \n",
       "13  NYTIMES  https://www.irishtimes.com/static/articleindex...   \n",
       "14  NYTIMES  https://www.irishtimes.com/static/articleindex...   \n",
       "15  NYTIMES  https://www.irishtimes.com/static/articleindex...   \n",
       "16  NYTIMES  https://www.irishtimes.com/static/articleindex...   \n",
       "17  NYTIMES  https://www.irishtimes.com/static/articleindex...   \n",
       "18  NYTIMES  https://www.irishtimes.com/static/articleindex...   \n",
       "19  NYTIMES  https://www.irishtimes.com/static/articleindex...   \n",
       "\n",
       "                                             headline     date  \\\n",
       "0                                    The Irish Times   03-1-20   \n",
       "1           ‹ Feb 29th 2020\\n                          03-1-20   \n",
       "2         Mar 2nd 2020\\n                            ›  03-1-20   \n",
       "3   Joe Biden wins crucial South Carolina primary ...  03-1-20   \n",
       "4   Teenage girl dies in single vehicle crash in C...  03-1-20   \n",
       "5   Storm Jorge: Flooding danger this week as rain...  03-1-20   \n",
       "6   Thousands try to enter Greece after Turkey ope...  03-1-20   \n",
       "7   Coronavirus: UK confirms 36 cases as 13 more p...  03-1-20   \n",
       "8   Afghan president rejects Taliban demand to fre...  03-1-20   \n",
       "9   Pope Francis to miss Lenten spiritual retreat ...  03-1-20   \n",
       "10  Life imitates art as actor in plague movie end...  03-1-20   \n",
       "11  Victims of Louth crash were mother, son and yo...  03-1-20   \n",
       "12  Turkey destroys scores of Syrian army targets ...  03-1-20   \n",
       "13  Coast Guard rescues surfers who went out to se...  03-1-20   \n",
       "14    SF’s Lynn Boylan among those running for Seanad  03-1-20   \n",
       "15  Fourth Israeli election likely outcome of thir...  03-1-20   \n",
       "16  Focus Ireland calls for rent freeze to tackle ...  03-1-20   \n",
       "17           Brexit negotiations kick off in Brussels  03-1-20   \n",
       "18  Driver crashes through level crossing barrier ...  03-1-20   \n",
       "19  Car crashes through level crossing barriers at...  03-1-20   \n",
       "\n",
       "    Day of the Month Sentiment  Polarity  \n",
       "0                  1   neutral  0.000000  \n",
       "1                  1   neutral  0.000000  \n",
       "2                  1   neutral  0.000000  \n",
       "3                  1  positive  0.258333  \n",
       "4                  1  negative -0.035714  \n",
       "5                  1   neutral  0.000000  \n",
       "6                  1   neutral  0.000000  \n",
       "7                  1  positive  0.500000  \n",
       "8                  1  positive  0.400000  \n",
       "9                  1  positive  0.125000  \n",
       "10                 1   neutral  0.000000  \n",
       "11                 1  positive  0.100000  \n",
       "12                 1   neutral  0.000000  \n",
       "13                 1   neutral  0.000000  \n",
       "14                 1   neutral  0.000000  \n",
       "15                 1   neutral  0.000000  \n",
       "16                 1   neutral  0.000000  \n",
       "17                 1   neutral  0.000000  \n",
       "18                 1   neutral  0.000000  \n",
       "19                 1   neutral  0.000000  "
      ]
     },
     "execution_count": 21,
     "metadata": {},
     "output_type": "execute_result"
    }
   ],
   "source": [
    "NYTIMES_news_df.head(20)"
   ]
  },
  {
   "cell_type": "code",
   "execution_count": 22,
   "metadata": {},
   "outputs": [],
   "source": [
    "NYTIMES_news_df=NYTIMES_news_df.drop([NYTIMES_news_df.index[0],NYTIMES_news_df.index[1],NYTIMES_news_df.index[2],NYTIMES_news_df.index[4458],NYTIMES_news_df.index[4459]])"
   ]
  },
  {
   "cell_type": "markdown",
   "metadata": {},
   "source": [
    "**Dropping these rows as they do not have valid headlines of news articles.**"
   ]
  },
  {
   "cell_type": "code",
   "execution_count": 23,
   "metadata": {},
   "outputs": [
    {
     "data": {
      "text/html": [
       "<div>\n",
       "<style scoped>\n",
       "    .dataframe tbody tr th:only-of-type {\n",
       "        vertical-align: middle;\n",
       "    }\n",
       "\n",
       "    .dataframe tbody tr th {\n",
       "        vertical-align: top;\n",
       "    }\n",
       "\n",
       "    .dataframe thead th {\n",
       "        text-align: right;\n",
       "    }\n",
       "</style>\n",
       "<table border=\"1\" class=\"dataframe\">\n",
       "  <thead>\n",
       "    <tr style=\"text-align: right;\">\n",
       "      <th></th>\n",
       "      <th>website</th>\n",
       "      <th>url</th>\n",
       "      <th>headline</th>\n",
       "      <th>date</th>\n",
       "      <th>Day of the Month</th>\n",
       "      <th>Sentiment</th>\n",
       "      <th>Polarity</th>\n",
       "    </tr>\n",
       "  </thead>\n",
       "  <tbody>\n",
       "    <tr>\n",
       "      <th>3</th>\n",
       "      <td>NYTIMES</td>\n",
       "      <td>https://www.irishtimes.com/static/articleindex...</td>\n",
       "      <td>Joe Biden wins crucial South Carolina primary ...</td>\n",
       "      <td>03-1-20</td>\n",
       "      <td>1</td>\n",
       "      <td>positive</td>\n",
       "      <td>0.258333</td>\n",
       "    </tr>\n",
       "    <tr>\n",
       "      <th>4</th>\n",
       "      <td>NYTIMES</td>\n",
       "      <td>https://www.irishtimes.com/static/articleindex...</td>\n",
       "      <td>Teenage girl dies in single vehicle crash in C...</td>\n",
       "      <td>03-1-20</td>\n",
       "      <td>1</td>\n",
       "      <td>negative</td>\n",
       "      <td>-0.035714</td>\n",
       "    </tr>\n",
       "    <tr>\n",
       "      <th>5</th>\n",
       "      <td>NYTIMES</td>\n",
       "      <td>https://www.irishtimes.com/static/articleindex...</td>\n",
       "      <td>Storm Jorge: Flooding danger this week as rain...</td>\n",
       "      <td>03-1-20</td>\n",
       "      <td>1</td>\n",
       "      <td>neutral</td>\n",
       "      <td>0.000000</td>\n",
       "    </tr>\n",
       "    <tr>\n",
       "      <th>6</th>\n",
       "      <td>NYTIMES</td>\n",
       "      <td>https://www.irishtimes.com/static/articleindex...</td>\n",
       "      <td>Thousands try to enter Greece after Turkey ope...</td>\n",
       "      <td>03-1-20</td>\n",
       "      <td>1</td>\n",
       "      <td>neutral</td>\n",
       "      <td>0.000000</td>\n",
       "    </tr>\n",
       "    <tr>\n",
       "      <th>7</th>\n",
       "      <td>NYTIMES</td>\n",
       "      <td>https://www.irishtimes.com/static/articleindex...</td>\n",
       "      <td>Coronavirus: UK confirms 36 cases as 13 more p...</td>\n",
       "      <td>03-1-20</td>\n",
       "      <td>1</td>\n",
       "      <td>positive</td>\n",
       "      <td>0.500000</td>\n",
       "    </tr>\n",
       "    <tr>\n",
       "      <th>8</th>\n",
       "      <td>NYTIMES</td>\n",
       "      <td>https://www.irishtimes.com/static/articleindex...</td>\n",
       "      <td>Afghan president rejects Taliban demand to fre...</td>\n",
       "      <td>03-1-20</td>\n",
       "      <td>1</td>\n",
       "      <td>positive</td>\n",
       "      <td>0.400000</td>\n",
       "    </tr>\n",
       "    <tr>\n",
       "      <th>9</th>\n",
       "      <td>NYTIMES</td>\n",
       "      <td>https://www.irishtimes.com/static/articleindex...</td>\n",
       "      <td>Pope Francis to miss Lenten spiritual retreat ...</td>\n",
       "      <td>03-1-20</td>\n",
       "      <td>1</td>\n",
       "      <td>positive</td>\n",
       "      <td>0.125000</td>\n",
       "    </tr>\n",
       "    <tr>\n",
       "      <th>10</th>\n",
       "      <td>NYTIMES</td>\n",
       "      <td>https://www.irishtimes.com/static/articleindex...</td>\n",
       "      <td>Life imitates art as actor in plague movie end...</td>\n",
       "      <td>03-1-20</td>\n",
       "      <td>1</td>\n",
       "      <td>neutral</td>\n",
       "      <td>0.000000</td>\n",
       "    </tr>\n",
       "    <tr>\n",
       "      <th>11</th>\n",
       "      <td>NYTIMES</td>\n",
       "      <td>https://www.irishtimes.com/static/articleindex...</td>\n",
       "      <td>Victims of Louth crash were mother, son and yo...</td>\n",
       "      <td>03-1-20</td>\n",
       "      <td>1</td>\n",
       "      <td>positive</td>\n",
       "      <td>0.100000</td>\n",
       "    </tr>\n",
       "    <tr>\n",
       "      <th>12</th>\n",
       "      <td>NYTIMES</td>\n",
       "      <td>https://www.irishtimes.com/static/articleindex...</td>\n",
       "      <td>Turkey destroys scores of Syrian army targets ...</td>\n",
       "      <td>03-1-20</td>\n",
       "      <td>1</td>\n",
       "      <td>neutral</td>\n",
       "      <td>0.000000</td>\n",
       "    </tr>\n",
       "    <tr>\n",
       "      <th>13</th>\n",
       "      <td>NYTIMES</td>\n",
       "      <td>https://www.irishtimes.com/static/articleindex...</td>\n",
       "      <td>Coast Guard rescues surfers who went out to se...</td>\n",
       "      <td>03-1-20</td>\n",
       "      <td>1</td>\n",
       "      <td>neutral</td>\n",
       "      <td>0.000000</td>\n",
       "    </tr>\n",
       "    <tr>\n",
       "      <th>14</th>\n",
       "      <td>NYTIMES</td>\n",
       "      <td>https://www.irishtimes.com/static/articleindex...</td>\n",
       "      <td>SF’s Lynn Boylan among those running for Seanad</td>\n",
       "      <td>03-1-20</td>\n",
       "      <td>1</td>\n",
       "      <td>neutral</td>\n",
       "      <td>0.000000</td>\n",
       "    </tr>\n",
       "    <tr>\n",
       "      <th>15</th>\n",
       "      <td>NYTIMES</td>\n",
       "      <td>https://www.irishtimes.com/static/articleindex...</td>\n",
       "      <td>Fourth Israeli election likely outcome of thir...</td>\n",
       "      <td>03-1-20</td>\n",
       "      <td>1</td>\n",
       "      <td>neutral</td>\n",
       "      <td>0.000000</td>\n",
       "    </tr>\n",
       "    <tr>\n",
       "      <th>16</th>\n",
       "      <td>NYTIMES</td>\n",
       "      <td>https://www.irishtimes.com/static/articleindex...</td>\n",
       "      <td>Focus Ireland calls for rent freeze to tackle ...</td>\n",
       "      <td>03-1-20</td>\n",
       "      <td>1</td>\n",
       "      <td>neutral</td>\n",
       "      <td>0.000000</td>\n",
       "    </tr>\n",
       "    <tr>\n",
       "      <th>17</th>\n",
       "      <td>NYTIMES</td>\n",
       "      <td>https://www.irishtimes.com/static/articleindex...</td>\n",
       "      <td>Brexit negotiations kick off in Brussels</td>\n",
       "      <td>03-1-20</td>\n",
       "      <td>1</td>\n",
       "      <td>neutral</td>\n",
       "      <td>0.000000</td>\n",
       "    </tr>\n",
       "    <tr>\n",
       "      <th>18</th>\n",
       "      <td>NYTIMES</td>\n",
       "      <td>https://www.irishtimes.com/static/articleindex...</td>\n",
       "      <td>Driver crashes through level crossing barrier ...</td>\n",
       "      <td>03-1-20</td>\n",
       "      <td>1</td>\n",
       "      <td>neutral</td>\n",
       "      <td>0.000000</td>\n",
       "    </tr>\n",
       "    <tr>\n",
       "      <th>19</th>\n",
       "      <td>NYTIMES</td>\n",
       "      <td>https://www.irishtimes.com/static/articleindex...</td>\n",
       "      <td>Car crashes through level crossing barriers at...</td>\n",
       "      <td>03-1-20</td>\n",
       "      <td>1</td>\n",
       "      <td>neutral</td>\n",
       "      <td>0.000000</td>\n",
       "    </tr>\n",
       "    <tr>\n",
       "      <th>20</th>\n",
       "      <td>NYTIMES</td>\n",
       "      <td>https://www.irishtimes.com/static/articleindex...</td>\n",
       "      <td>Slovak anger over graft and cronyism drives ou...</td>\n",
       "      <td>03-1-20</td>\n",
       "      <td>1</td>\n",
       "      <td>negative</td>\n",
       "      <td>-0.700000</td>\n",
       "    </tr>\n",
       "    <tr>\n",
       "      <th>21</th>\n",
       "      <td>NYTIMES</td>\n",
       "      <td>https://www.irishtimes.com/static/articleindex...</td>\n",
       "      <td>Coronavirus: Dublin school to close for two we...</td>\n",
       "      <td>03-1-20</td>\n",
       "      <td>1</td>\n",
       "      <td>neutral</td>\n",
       "      <td>0.000000</td>\n",
       "    </tr>\n",
       "    <tr>\n",
       "      <th>22</th>\n",
       "      <td>NYTIMES</td>\n",
       "      <td>https://www.irishtimes.com/static/articleindex...</td>\n",
       "      <td>Erdogan delays plan to expel Syrian army from ...</td>\n",
       "      <td>03-1-20</td>\n",
       "      <td>1</td>\n",
       "      <td>neutral</td>\n",
       "      <td>0.000000</td>\n",
       "    </tr>\n",
       "  </tbody>\n",
       "</table>\n",
       "</div>"
      ],
      "text/plain": [
       "    website                                                url  \\\n",
       "3   NYTIMES  https://www.irishtimes.com/static/articleindex...   \n",
       "4   NYTIMES  https://www.irishtimes.com/static/articleindex...   \n",
       "5   NYTIMES  https://www.irishtimes.com/static/articleindex...   \n",
       "6   NYTIMES  https://www.irishtimes.com/static/articleindex...   \n",
       "7   NYTIMES  https://www.irishtimes.com/static/articleindex...   \n",
       "8   NYTIMES  https://www.irishtimes.com/static/articleindex...   \n",
       "9   NYTIMES  https://www.irishtimes.com/static/articleindex...   \n",
       "10  NYTIMES  https://www.irishtimes.com/static/articleindex...   \n",
       "11  NYTIMES  https://www.irishtimes.com/static/articleindex...   \n",
       "12  NYTIMES  https://www.irishtimes.com/static/articleindex...   \n",
       "13  NYTIMES  https://www.irishtimes.com/static/articleindex...   \n",
       "14  NYTIMES  https://www.irishtimes.com/static/articleindex...   \n",
       "15  NYTIMES  https://www.irishtimes.com/static/articleindex...   \n",
       "16  NYTIMES  https://www.irishtimes.com/static/articleindex...   \n",
       "17  NYTIMES  https://www.irishtimes.com/static/articleindex...   \n",
       "18  NYTIMES  https://www.irishtimes.com/static/articleindex...   \n",
       "19  NYTIMES  https://www.irishtimes.com/static/articleindex...   \n",
       "20  NYTIMES  https://www.irishtimes.com/static/articleindex...   \n",
       "21  NYTIMES  https://www.irishtimes.com/static/articleindex...   \n",
       "22  NYTIMES  https://www.irishtimes.com/static/articleindex...   \n",
       "\n",
       "                                             headline     date  \\\n",
       "3   Joe Biden wins crucial South Carolina primary ...  03-1-20   \n",
       "4   Teenage girl dies in single vehicle crash in C...  03-1-20   \n",
       "5   Storm Jorge: Flooding danger this week as rain...  03-1-20   \n",
       "6   Thousands try to enter Greece after Turkey ope...  03-1-20   \n",
       "7   Coronavirus: UK confirms 36 cases as 13 more p...  03-1-20   \n",
       "8   Afghan president rejects Taliban demand to fre...  03-1-20   \n",
       "9   Pope Francis to miss Lenten spiritual retreat ...  03-1-20   \n",
       "10  Life imitates art as actor in plague movie end...  03-1-20   \n",
       "11  Victims of Louth crash were mother, son and yo...  03-1-20   \n",
       "12  Turkey destroys scores of Syrian army targets ...  03-1-20   \n",
       "13  Coast Guard rescues surfers who went out to se...  03-1-20   \n",
       "14    SF’s Lynn Boylan among those running for Seanad  03-1-20   \n",
       "15  Fourth Israeli election likely outcome of thir...  03-1-20   \n",
       "16  Focus Ireland calls for rent freeze to tackle ...  03-1-20   \n",
       "17           Brexit negotiations kick off in Brussels  03-1-20   \n",
       "18  Driver crashes through level crossing barrier ...  03-1-20   \n",
       "19  Car crashes through level crossing barriers at...  03-1-20   \n",
       "20  Slovak anger over graft and cronyism drives ou...  03-1-20   \n",
       "21  Coronavirus: Dublin school to close for two we...  03-1-20   \n",
       "22  Erdogan delays plan to expel Syrian army from ...  03-1-20   \n",
       "\n",
       "    Day of the Month Sentiment  Polarity  \n",
       "3                  1  positive  0.258333  \n",
       "4                  1  negative -0.035714  \n",
       "5                  1   neutral  0.000000  \n",
       "6                  1   neutral  0.000000  \n",
       "7                  1  positive  0.500000  \n",
       "8                  1  positive  0.400000  \n",
       "9                  1  positive  0.125000  \n",
       "10                 1   neutral  0.000000  \n",
       "11                 1  positive  0.100000  \n",
       "12                 1   neutral  0.000000  \n",
       "13                 1   neutral  0.000000  \n",
       "14                 1   neutral  0.000000  \n",
       "15                 1   neutral  0.000000  \n",
       "16                 1   neutral  0.000000  \n",
       "17                 1   neutral  0.000000  \n",
       "18                 1   neutral  0.000000  \n",
       "19                 1   neutral  0.000000  \n",
       "20                 1  negative -0.700000  \n",
       "21                 1   neutral  0.000000  \n",
       "22                 1   neutral  0.000000  "
      ]
     },
     "execution_count": 23,
     "metadata": {},
     "output_type": "execute_result"
    }
   ],
   "source": [
    "NYTIMES_news_df.head(20)"
   ]
  },
  {
   "cell_type": "code",
   "execution_count": 24,
   "metadata": {},
   "outputs": [
    {
     "data": {
      "text/plain": [
       "(4646, 7)"
      ]
     },
     "execution_count": 24,
     "metadata": {},
     "output_type": "execute_result"
    }
   ],
   "source": [
    "NYTIMES_news_df.shape"
   ]
  },
  {
   "cell_type": "markdown",
   "metadata": {},
   "source": [
    "**Through web scraping,we were able to create a total of three deataframes.Each dataframe consists information for each news channel.The columns for each dataset include URL (through which web scraping was made possible), the website name, available date for the news, sentiment and the sentiment polarity value**"
   ]
  },
  {
   "cell_type": "markdown",
   "metadata": {},
   "source": [
    "# COMPARISION BETWEEN THE THREE NEWS CHANNELS"
   ]
  },
  {
   "cell_type": "code",
   "execution_count": 25,
   "metadata": {},
   "outputs": [
    {
     "data": {
      "image/png": "[encoded data removed]",
      "text/plain": [
       "<Figure size 1152x576 with 1 Axes>"
      ]
     },
     "metadata": {
      "needs_background": "light"
     },
     "output_type": "display_data"
    }
   ],
   "source": [
    "CNN_news_df['Sentiment'].value_counts().plot(kind='bar', figsize=[16,8], edgecolor='yellow', color='orange')\n",
    "plt.xlabel('Sentiment', fontsize=16)\n",
    "plt.ylabel('Frequency', fontsize=16)\n",
    "plt.title('Number of positive and negative articles for CNN News', fontsize=16)\n",
    "plt.show()"
   ]
  },
  {
   "cell_type": "code",
   "execution_count": 26,
   "metadata": {},
   "outputs": [
    {
     "data": {
      "image/png": "[encoded data removed]",
      "text/plain": [
       "<Figure size 1152x576 with 1 Axes>"
      ]
     },
     "metadata": {
      "needs_background": "light"
     },
     "output_type": "display_data"
    }
   ],
   "source": [
    "NDTV_news_df['Sentiment'].value_counts().plot(kind='bar', figsize=[16,8], edgecolor='yellow', color='orange')\n",
    "plt.xlabel('Sentiment', fontsize=16)\n",
    "plt.ylabel('Frequency', fontsize=16)\n",
    "plt.title('Number of positive and negative articles for NDTV News', fontsize=16)\n",
    "plt.show()"
   ]
  },
  {
   "cell_type": "code",
   "execution_count": 27,
   "metadata": {},
   "outputs": [
    {
     "data": {
      "image/png": "[encoded data removed]",
      "text/plain": [
       "<Figure size 1152x576 with 1 Axes>"
      ]
     },
     "metadata": {
      "needs_background": "light"
     },
     "output_type": "display_data"
    }
   ],
   "source": [
    "NYTIMES_news_df['Sentiment'].value_counts().plot(kind='bar', figsize=[16,8], edgecolor='yellow', color='orange')\n",
    "plt.xlabel('Sentiment', fontsize=16)\n",
    "plt.ylabel('Frequency', fontsize=16)\n",
    "plt.title('Number of positive and negative articles for NYTIMES News', fontsize=16)\n",
    "plt.show()"
   ]
  },
  {
   "cell_type": "markdown",
   "metadata": {},
   "source": [
    "**From the above bar plots,we can understand that the articles that are neutral in nature are in majority compared to postive and negative articles for the three news channels.**"
   ]
  },
  {
   "cell_type": "markdown",
   "metadata": {},
   "source": [
    "**Positive articles are more in number compared to negative articles for all the three news channels.**"
   ]
  },
  {
   "cell_type": "markdown",
   "metadata": {},
   "source": [
    "## NUMBER OF POSITIVE AND NEGATIVE ARTICLES FOR EACH DAY (OF THE MONTH) FOR CNN NEWS "
   ]
  },
  {
   "cell_type": "code",
   "execution_count": 28,
   "metadata": {},
   "outputs": [],
   "source": [
    "article_info=[]\n",
    "for i in range(1,31):\n",
    "    article_info.append({'Day of the Month':i,'Number of positive articles':len(CNN_news_df.loc[(CNN_news_df.Sentiment=='positive')&(CNN_news_df['Day of the Month']==i)]),'Number of negative articles':len(CNN_news_df.loc[(CNN_news_df.Sentiment=='negative')&(CNN_news_df['Day of the Month']==i)])})"
   ]
  },
  {
   "cell_type": "code",
   "execution_count": 29,
   "metadata": {},
   "outputs": [],
   "source": [
    "CNN_article_df=pd.DataFrame(article_info)"
   ]
  },
  {
   "cell_type": "code",
   "execution_count": 30,
   "metadata": {},
   "outputs": [
    {
     "data": {
      "text/html": [
       "<div>\n",
       "<style scoped>\n",
       "    .dataframe tbody tr th:only-of-type {\n",
       "        vertical-align: middle;\n",
       "    }\n",
       "\n",
       "    .dataframe tbody tr th {\n",
       "        vertical-align: top;\n",
       "    }\n",
       "\n",
       "    .dataframe thead th {\n",
       "        text-align: right;\n",
       "    }\n",
       "</style>\n",
       "<table border=\"1\" class=\"dataframe\">\n",
       "  <thead>\n",
       "    <tr style=\"text-align: right;\">\n",
       "      <th></th>\n",
       "      <th>Day of the Month</th>\n",
       "      <th>Number of positive articles</th>\n",
       "      <th>Number of negative articles</th>\n",
       "    </tr>\n",
       "  </thead>\n",
       "  <tbody>\n",
       "    <tr>\n",
       "      <th>5</th>\n",
       "      <td>6</td>\n",
       "      <td>5</td>\n",
       "      <td>0</td>\n",
       "    </tr>\n",
       "    <tr>\n",
       "      <th>9</th>\n",
       "      <td>10</td>\n",
       "      <td>2</td>\n",
       "      <td>0</td>\n",
       "    </tr>\n",
       "    <tr>\n",
       "      <th>10</th>\n",
       "      <td>11</td>\n",
       "      <td>5</td>\n",
       "      <td>0</td>\n",
       "    </tr>\n",
       "    <tr>\n",
       "      <th>11</th>\n",
       "      <td>12</td>\n",
       "      <td>3</td>\n",
       "      <td>0</td>\n",
       "    </tr>\n",
       "    <tr>\n",
       "      <th>12</th>\n",
       "      <td>13</td>\n",
       "      <td>2</td>\n",
       "      <td>1</td>\n",
       "    </tr>\n",
       "    <tr>\n",
       "      <th>13</th>\n",
       "      <td>14</td>\n",
       "      <td>5</td>\n",
       "      <td>0</td>\n",
       "    </tr>\n",
       "    <tr>\n",
       "      <th>15</th>\n",
       "      <td>16</td>\n",
       "      <td>1</td>\n",
       "      <td>3</td>\n",
       "    </tr>\n",
       "    <tr>\n",
       "      <th>16</th>\n",
       "      <td>17</td>\n",
       "      <td>1</td>\n",
       "      <td>2</td>\n",
       "    </tr>\n",
       "    <tr>\n",
       "      <th>17</th>\n",
       "      <td>18</td>\n",
       "      <td>3</td>\n",
       "      <td>1</td>\n",
       "    </tr>\n",
       "    <tr>\n",
       "      <th>18</th>\n",
       "      <td>19</td>\n",
       "      <td>4</td>\n",
       "      <td>0</td>\n",
       "    </tr>\n",
       "    <tr>\n",
       "      <th>19</th>\n",
       "      <td>20</td>\n",
       "      <td>3</td>\n",
       "      <td>2</td>\n",
       "    </tr>\n",
       "    <tr>\n",
       "      <th>20</th>\n",
       "      <td>21</td>\n",
       "      <td>3</td>\n",
       "      <td>3</td>\n",
       "    </tr>\n",
       "    <tr>\n",
       "      <th>22</th>\n",
       "      <td>23</td>\n",
       "      <td>2</td>\n",
       "      <td>2</td>\n",
       "    </tr>\n",
       "    <tr>\n",
       "      <th>23</th>\n",
       "      <td>24</td>\n",
       "      <td>5</td>\n",
       "      <td>0</td>\n",
       "    </tr>\n",
       "    <tr>\n",
       "      <th>24</th>\n",
       "      <td>25</td>\n",
       "      <td>3</td>\n",
       "      <td>2</td>\n",
       "    </tr>\n",
       "    <tr>\n",
       "      <th>25</th>\n",
       "      <td>26</td>\n",
       "      <td>4</td>\n",
       "      <td>2</td>\n",
       "    </tr>\n",
       "    <tr>\n",
       "      <th>26</th>\n",
       "      <td>27</td>\n",
       "      <td>2</td>\n",
       "      <td>2</td>\n",
       "    </tr>\n",
       "    <tr>\n",
       "      <th>27</th>\n",
       "      <td>28</td>\n",
       "      <td>6</td>\n",
       "      <td>1</td>\n",
       "    </tr>\n",
       "    <tr>\n",
       "      <th>28</th>\n",
       "      <td>29</td>\n",
       "      <td>2</td>\n",
       "      <td>3</td>\n",
       "    </tr>\n",
       "    <tr>\n",
       "      <th>29</th>\n",
       "      <td>30</td>\n",
       "      <td>3</td>\n",
       "      <td>3</td>\n",
       "    </tr>\n",
       "  </tbody>\n",
       "</table>\n",
       "</div>"
      ],
      "text/plain": [
       "    Day of the Month  Number of positive articles  Number of negative articles\n",
       "5                  6                            5                            0\n",
       "9                 10                            2                            0\n",
       "10                11                            5                            0\n",
       "11                12                            3                            0\n",
       "12                13                            2                            1\n",
       "13                14                            5                            0\n",
       "15                16                            1                            3\n",
       "16                17                            1                            2\n",
       "17                18                            3                            1\n",
       "18                19                            4                            0\n",
       "19                20                            3                            2\n",
       "20                21                            3                            3\n",
       "22                23                            2                            2\n",
       "23                24                            5                            0\n",
       "24                25                            3                            2\n",
       "25                26                            4                            2\n",
       "26                27                            2                            2\n",
       "27                28                            6                            1\n",
       "28                29                            2                            3\n",
       "29                30                            3                            3"
      ]
     },
     "execution_count": 30,
     "metadata": {},
     "output_type": "execute_result"
    }
   ],
   "source": [
    "CNN_article_df.loc[(CNN_article_df['Number of positive articles']!=0)|(CNN_article_df['Number of negative articles']!=0)]"
   ]
  },
  {
   "cell_type": "markdown",
   "metadata": {},
   "source": [
    "**The above shown dataframe has required data i.e, it has days with valid number of positive and negative articles for a given day of the month.**"
   ]
  },
  {
   "cell_type": "markdown",
   "metadata": {},
   "source": [
    "## NUMBER OF POSITIVE AND NEGATIVE ARTICLES FOR EACH DAY (OF THE MONTH) FOR NDTV NEWS "
   ]
  },
  {
   "cell_type": "code",
   "execution_count": 31,
   "metadata": {},
   "outputs": [],
   "source": [
    "article_info=[]\n",
    "for i in range(1,31):\n",
    "    article_info.append({'Day of the Month':i,'Number of positive articles':len(NDTV_news_df.loc[(NDTV_news_df.Sentiment=='positive')&(NDTV_news_df['Day of the Month']==i)]),'Number of negative articles':len(NDTV_news_df.loc[(NDTV_news_df.Sentiment=='negative')&(NDTV_news_df['Day of the Month']==i)])})"
   ]
  },
  {
   "cell_type": "code",
   "execution_count": 32,
   "metadata": {},
   "outputs": [],
   "source": [
    "NDTV_article_df=pd.DataFrame(article_info)"
   ]
  },
  {
   "cell_type": "code",
   "execution_count": 33,
   "metadata": {},
   "outputs": [
    {
     "data": {
      "text/html": [
       "<div>\n",
       "<style scoped>\n",
       "    .dataframe tbody tr th:only-of-type {\n",
       "        vertical-align: middle;\n",
       "    }\n",
       "\n",
       "    .dataframe tbody tr th {\n",
       "        vertical-align: top;\n",
       "    }\n",
       "\n",
       "    .dataframe thead th {\n",
       "        text-align: right;\n",
       "    }\n",
       "</style>\n",
       "<table border=\"1\" class=\"dataframe\">\n",
       "  <thead>\n",
       "    <tr style=\"text-align: right;\">\n",
       "      <th></th>\n",
       "      <th>Day of the Month</th>\n",
       "      <th>Number of positive articles</th>\n",
       "      <th>Number of negative articles</th>\n",
       "    </tr>\n",
       "  </thead>\n",
       "  <tbody>\n",
       "    <tr>\n",
       "      <th>0</th>\n",
       "      <td>1</td>\n",
       "      <td>14</td>\n",
       "      <td>4</td>\n",
       "    </tr>\n",
       "    <tr>\n",
       "      <th>1</th>\n",
       "      <td>2</td>\n",
       "      <td>22</td>\n",
       "      <td>2</td>\n",
       "    </tr>\n",
       "    <tr>\n",
       "      <th>2</th>\n",
       "      <td>3</td>\n",
       "      <td>14</td>\n",
       "      <td>4</td>\n",
       "    </tr>\n",
       "    <tr>\n",
       "      <th>3</th>\n",
       "      <td>4</td>\n",
       "      <td>6</td>\n",
       "      <td>2</td>\n",
       "    </tr>\n",
       "    <tr>\n",
       "      <th>4</th>\n",
       "      <td>5</td>\n",
       "      <td>8</td>\n",
       "      <td>4</td>\n",
       "    </tr>\n",
       "    <tr>\n",
       "      <th>5</th>\n",
       "      <td>6</td>\n",
       "      <td>12</td>\n",
       "      <td>8</td>\n",
       "    </tr>\n",
       "    <tr>\n",
       "      <th>6</th>\n",
       "      <td>7</td>\n",
       "      <td>8</td>\n",
       "      <td>8</td>\n",
       "    </tr>\n",
       "    <tr>\n",
       "      <th>7</th>\n",
       "      <td>8</td>\n",
       "      <td>22</td>\n",
       "      <td>10</td>\n",
       "    </tr>\n",
       "    <tr>\n",
       "      <th>8</th>\n",
       "      <td>9</td>\n",
       "      <td>0</td>\n",
       "      <td>4</td>\n",
       "    </tr>\n",
       "    <tr>\n",
       "      <th>9</th>\n",
       "      <td>10</td>\n",
       "      <td>4</td>\n",
       "      <td>4</td>\n",
       "    </tr>\n",
       "    <tr>\n",
       "      <th>10</th>\n",
       "      <td>11</td>\n",
       "      <td>10</td>\n",
       "      <td>6</td>\n",
       "    </tr>\n",
       "    <tr>\n",
       "      <th>11</th>\n",
       "      <td>12</td>\n",
       "      <td>14</td>\n",
       "      <td>4</td>\n",
       "    </tr>\n",
       "    <tr>\n",
       "      <th>12</th>\n",
       "      <td>13</td>\n",
       "      <td>14</td>\n",
       "      <td>4</td>\n",
       "    </tr>\n",
       "    <tr>\n",
       "      <th>13</th>\n",
       "      <td>14</td>\n",
       "      <td>8</td>\n",
       "      <td>4</td>\n",
       "    </tr>\n",
       "    <tr>\n",
       "      <th>14</th>\n",
       "      <td>15</td>\n",
       "      <td>10</td>\n",
       "      <td>8</td>\n",
       "    </tr>\n",
       "    <tr>\n",
       "      <th>15</th>\n",
       "      <td>16</td>\n",
       "      <td>16</td>\n",
       "      <td>2</td>\n",
       "    </tr>\n",
       "    <tr>\n",
       "      <th>16</th>\n",
       "      <td>17</td>\n",
       "      <td>16</td>\n",
       "      <td>4</td>\n",
       "    </tr>\n",
       "    <tr>\n",
       "      <th>17</th>\n",
       "      <td>18</td>\n",
       "      <td>14</td>\n",
       "      <td>6</td>\n",
       "    </tr>\n",
       "    <tr>\n",
       "      <th>18</th>\n",
       "      <td>19</td>\n",
       "      <td>18</td>\n",
       "      <td>10</td>\n",
       "    </tr>\n",
       "    <tr>\n",
       "      <th>19</th>\n",
       "      <td>20</td>\n",
       "      <td>22</td>\n",
       "      <td>4</td>\n",
       "    </tr>\n",
       "    <tr>\n",
       "      <th>20</th>\n",
       "      <td>21</td>\n",
       "      <td>6</td>\n",
       "      <td>2</td>\n",
       "    </tr>\n",
       "    <tr>\n",
       "      <th>21</th>\n",
       "      <td>22</td>\n",
       "      <td>12</td>\n",
       "      <td>14</td>\n",
       "    </tr>\n",
       "    <tr>\n",
       "      <th>22</th>\n",
       "      <td>23</td>\n",
       "      <td>10</td>\n",
       "      <td>0</td>\n",
       "    </tr>\n",
       "    <tr>\n",
       "      <th>23</th>\n",
       "      <td>24</td>\n",
       "      <td>4</td>\n",
       "      <td>8</td>\n",
       "    </tr>\n",
       "    <tr>\n",
       "      <th>24</th>\n",
       "      <td>25</td>\n",
       "      <td>4</td>\n",
       "      <td>6</td>\n",
       "    </tr>\n",
       "    <tr>\n",
       "      <th>25</th>\n",
       "      <td>26</td>\n",
       "      <td>10</td>\n",
       "      <td>4</td>\n",
       "    </tr>\n",
       "    <tr>\n",
       "      <th>26</th>\n",
       "      <td>27</td>\n",
       "      <td>8</td>\n",
       "      <td>6</td>\n",
       "    </tr>\n",
       "    <tr>\n",
       "      <th>27</th>\n",
       "      <td>28</td>\n",
       "      <td>12</td>\n",
       "      <td>2</td>\n",
       "    </tr>\n",
       "    <tr>\n",
       "      <th>28</th>\n",
       "      <td>29</td>\n",
       "      <td>10</td>\n",
       "      <td>8</td>\n",
       "    </tr>\n",
       "    <tr>\n",
       "      <th>29</th>\n",
       "      <td>30</td>\n",
       "      <td>8</td>\n",
       "      <td>2</td>\n",
       "    </tr>\n",
       "  </tbody>\n",
       "</table>\n",
       "</div>"
      ],
      "text/plain": [
       "    Day of the Month  Number of positive articles  Number of negative articles\n",
       "0                  1                           14                            4\n",
       "1                  2                           22                            2\n",
       "2                  3                           14                            4\n",
       "3                  4                            6                            2\n",
       "4                  5                            8                            4\n",
       "5                  6                           12                            8\n",
       "6                  7                            8                            8\n",
       "7                  8                           22                           10\n",
       "8                  9                            0                            4\n",
       "9                 10                            4                            4\n",
       "10                11                           10                            6\n",
       "11                12                           14                            4\n",
       "12                13                           14                            4\n",
       "13                14                            8                            4\n",
       "14                15                           10                            8\n",
       "15                16                           16                            2\n",
       "16                17                           16                            4\n",
       "17                18                           14                            6\n",
       "18                19                           18                           10\n",
       "19                20                           22                            4\n",
       "20                21                            6                            2\n",
       "21                22                           12                           14\n",
       "22                23                           10                            0\n",
       "23                24                            4                            8\n",
       "24                25                            4                            6\n",
       "25                26                           10                            4\n",
       "26                27                            8                            6\n",
       "27                28                           12                            2\n",
       "28                29                           10                            8\n",
       "29                30                            8                            2"
      ]
     },
     "execution_count": 33,
     "metadata": {},
     "output_type": "execute_result"
    }
   ],
   "source": [
    "NDTV_article_df.head(30)"
   ]
  },
  {
   "cell_type": "markdown",
   "metadata": {},
   "source": [
    "## NUMBER OF POSITIVE AND NEGATIVE ARTICLES FOR EACH DAY (OF THE MONTH) FOR NYTIMES NEWS "
   ]
  },
  {
   "cell_type": "code",
   "execution_count": 34,
   "metadata": {},
   "outputs": [],
   "source": [
    "article_info=[]\n",
    "for i in range(1,31):\n",
    "    article_info.append({'Day of the Month':i,'Number of positive articles':len(NYTIMES_news_df.loc[(NYTIMES_news_df.Sentiment=='positive')&(NYTIMES_news_df['Day of the Month']==i)]),'Number of negative articles':len(NYTIMES_news_df.loc[(NYTIMES_news_df.Sentiment=='negative')&(NYTIMES_news_df['Day of the Month']==i)])})"
   ]
  },
  {
   "cell_type": "code",
   "execution_count": 35,
   "metadata": {},
   "outputs": [],
   "source": [
    "NYTIMES_article_df=pd.DataFrame(article_info)"
   ]
  },
  {
   "cell_type": "code",
   "execution_count": 36,
   "metadata": {},
   "outputs": [
    {
     "data": {
      "text/html": [
       "<div>\n",
       "<style scoped>\n",
       "    .dataframe tbody tr th:only-of-type {\n",
       "        vertical-align: middle;\n",
       "    }\n",
       "\n",
       "    .dataframe tbody tr th {\n",
       "        vertical-align: top;\n",
       "    }\n",
       "\n",
       "    .dataframe thead th {\n",
       "        text-align: right;\n",
       "    }\n",
       "</style>\n",
       "<table border=\"1\" class=\"dataframe\">\n",
       "  <thead>\n",
       "    <tr style=\"text-align: right;\">\n",
       "      <th></th>\n",
       "      <th>Day of the Month</th>\n",
       "      <th>Number of positive articles</th>\n",
       "      <th>Number of negative articles</th>\n",
       "    </tr>\n",
       "  </thead>\n",
       "  <tbody>\n",
       "    <tr>\n",
       "      <th>0</th>\n",
       "      <td>1</td>\n",
       "      <td>30</td>\n",
       "      <td>15</td>\n",
       "    </tr>\n",
       "    <tr>\n",
       "      <th>1</th>\n",
       "      <td>2</td>\n",
       "      <td>42</td>\n",
       "      <td>26</td>\n",
       "    </tr>\n",
       "    <tr>\n",
       "      <th>2</th>\n",
       "      <td>3</td>\n",
       "      <td>43</td>\n",
       "      <td>39</td>\n",
       "    </tr>\n",
       "    <tr>\n",
       "      <th>3</th>\n",
       "      <td>4</td>\n",
       "      <td>47</td>\n",
       "      <td>28</td>\n",
       "    </tr>\n",
       "    <tr>\n",
       "      <th>4</th>\n",
       "      <td>5</td>\n",
       "      <td>53</td>\n",
       "      <td>29</td>\n",
       "    </tr>\n",
       "    <tr>\n",
       "      <th>5</th>\n",
       "      <td>6</td>\n",
       "      <td>39</td>\n",
       "      <td>22</td>\n",
       "    </tr>\n",
       "    <tr>\n",
       "      <th>6</th>\n",
       "      <td>7</td>\n",
       "      <td>43</td>\n",
       "      <td>20</td>\n",
       "    </tr>\n",
       "    <tr>\n",
       "      <th>7</th>\n",
       "      <td>8</td>\n",
       "      <td>21</td>\n",
       "      <td>21</td>\n",
       "    </tr>\n",
       "    <tr>\n",
       "      <th>8</th>\n",
       "      <td>9</td>\n",
       "      <td>48</td>\n",
       "      <td>18</td>\n",
       "    </tr>\n",
       "    <tr>\n",
       "      <th>9</th>\n",
       "      <td>10</td>\n",
       "      <td>46</td>\n",
       "      <td>30</td>\n",
       "    </tr>\n",
       "    <tr>\n",
       "      <th>10</th>\n",
       "      <td>11</td>\n",
       "      <td>48</td>\n",
       "      <td>28</td>\n",
       "    </tr>\n",
       "    <tr>\n",
       "      <th>11</th>\n",
       "      <td>12</td>\n",
       "      <td>54</td>\n",
       "      <td>20</td>\n",
       "    </tr>\n",
       "    <tr>\n",
       "      <th>12</th>\n",
       "      <td>13</td>\n",
       "      <td>43</td>\n",
       "      <td>22</td>\n",
       "    </tr>\n",
       "    <tr>\n",
       "      <th>13</th>\n",
       "      <td>14</td>\n",
       "      <td>36</td>\n",
       "      <td>16</td>\n",
       "    </tr>\n",
       "    <tr>\n",
       "      <th>14</th>\n",
       "      <td>15</td>\n",
       "      <td>24</td>\n",
       "      <td>11</td>\n",
       "    </tr>\n",
       "    <tr>\n",
       "      <th>15</th>\n",
       "      <td>16</td>\n",
       "      <td>37</td>\n",
       "      <td>31</td>\n",
       "    </tr>\n",
       "    <tr>\n",
       "      <th>16</th>\n",
       "      <td>17</td>\n",
       "      <td>33</td>\n",
       "      <td>16</td>\n",
       "    </tr>\n",
       "    <tr>\n",
       "      <th>17</th>\n",
       "      <td>18</td>\n",
       "      <td>45</td>\n",
       "      <td>21</td>\n",
       "    </tr>\n",
       "    <tr>\n",
       "      <th>18</th>\n",
       "      <td>19</td>\n",
       "      <td>44</td>\n",
       "      <td>29</td>\n",
       "    </tr>\n",
       "    <tr>\n",
       "      <th>19</th>\n",
       "      <td>20</td>\n",
       "      <td>45</td>\n",
       "      <td>16</td>\n",
       "    </tr>\n",
       "    <tr>\n",
       "      <th>20</th>\n",
       "      <td>21</td>\n",
       "      <td>33</td>\n",
       "      <td>16</td>\n",
       "    </tr>\n",
       "    <tr>\n",
       "      <th>21</th>\n",
       "      <td>22</td>\n",
       "      <td>26</td>\n",
       "      <td>16</td>\n",
       "    </tr>\n",
       "    <tr>\n",
       "      <th>22</th>\n",
       "      <td>23</td>\n",
       "      <td>44</td>\n",
       "      <td>32</td>\n",
       "    </tr>\n",
       "    <tr>\n",
       "      <th>23</th>\n",
       "      <td>24</td>\n",
       "      <td>41</td>\n",
       "      <td>31</td>\n",
       "    </tr>\n",
       "    <tr>\n",
       "      <th>24</th>\n",
       "      <td>25</td>\n",
       "      <td>49</td>\n",
       "      <td>21</td>\n",
       "    </tr>\n",
       "    <tr>\n",
       "      <th>25</th>\n",
       "      <td>26</td>\n",
       "      <td>49</td>\n",
       "      <td>25</td>\n",
       "    </tr>\n",
       "    <tr>\n",
       "      <th>26</th>\n",
       "      <td>27</td>\n",
       "      <td>51</td>\n",
       "      <td>34</td>\n",
       "    </tr>\n",
       "    <tr>\n",
       "      <th>27</th>\n",
       "      <td>28</td>\n",
       "      <td>39</td>\n",
       "      <td>14</td>\n",
       "    </tr>\n",
       "    <tr>\n",
       "      <th>28</th>\n",
       "      <td>29</td>\n",
       "      <td>15</td>\n",
       "      <td>9</td>\n",
       "    </tr>\n",
       "    <tr>\n",
       "      <th>29</th>\n",
       "      <td>30</td>\n",
       "      <td>43</td>\n",
       "      <td>24</td>\n",
       "    </tr>\n",
       "  </tbody>\n",
       "</table>\n",
       "</div>"
      ],
      "text/plain": [
       "    Day of the Month  Number of positive articles  Number of negative articles\n",
       "0                  1                           30                           15\n",
       "1                  2                           42                           26\n",
       "2                  3                           43                           39\n",
       "3                  4                           47                           28\n",
       "4                  5                           53                           29\n",
       "5                  6                           39                           22\n",
       "6                  7                           43                           20\n",
       "7                  8                           21                           21\n",
       "8                  9                           48                           18\n",
       "9                 10                           46                           30\n",
       "10                11                           48                           28\n",
       "11                12                           54                           20\n",
       "12                13                           43                           22\n",
       "13                14                           36                           16\n",
       "14                15                           24                           11\n",
       "15                16                           37                           31\n",
       "16                17                           33                           16\n",
       "17                18                           45                           21\n",
       "18                19                           44                           29\n",
       "19                20                           45                           16\n",
       "20                21                           33                           16\n",
       "21                22                           26                           16\n",
       "22                23                           44                           32\n",
       "23                24                           41                           31\n",
       "24                25                           49                           21\n",
       "25                26                           49                           25\n",
       "26                27                           51                           34\n",
       "27                28                           39                           14\n",
       "28                29                           15                            9\n",
       "29                30                           43                           24"
      ]
     },
     "execution_count": 36,
     "metadata": {},
     "output_type": "execute_result"
    }
   ],
   "source": [
    "NYTIMES_article_df.head(30)"
   ]
  },
  {
   "cell_type": "markdown",
   "metadata": {},
   "source": [
    "# CLEANING HEADLINE TEXT"
   ]
  },
  {
   "cell_type": "markdown",
   "metadata": {},
   "source": [
    "## Cleaning Headline Text of CNN news "
   ]
  },
  {
   "cell_type": "code",
   "execution_count": 37,
   "metadata": {},
   "outputs": [],
   "source": [
    "import nltk"
   ]
  },
  {
   "cell_type": "code",
   "execution_count": 38,
   "metadata": {},
   "outputs": [],
   "source": [
    "from nltk.tokenize import sent_tokenize, word_tokenize"
   ]
  },
  {
   "cell_type": "code",
   "execution_count": 39,
   "metadata": {},
   "outputs": [],
   "source": [
    "from nltk.corpus import stopwords"
   ]
  },
  {
   "cell_type": "code",
   "execution_count": 40,
   "metadata": {},
   "outputs": [],
   "source": [
    "stopwords_list = stopwords.words('English')"
   ]
  },
  {
   "cell_type": "code",
   "execution_count": 41,
   "metadata": {},
   "outputs": [],
   "source": [
    "clean_messages = []\n",
    "\n",
    "for i in range(CNN_news_df.shape[0]):\n",
    "    clean_headline_text = ''\n",
    "    current_text = word_tokenize(CNN_news_df['headline'].values[i])\n",
    "    for word in current_text:\n",
    "        if word == '@' or word == 'VirginAmerica' or word == 'United' or word == 'SouthwestAir' or word == 'USAirways' or word == 'americanair' or word == 'AmericanAir' or word == 'jetblue' or word == 'delta' or word == 'Delta':\n",
    "            continue\n",
    "        if not word in stopwords_list:\n",
    "            clean_headline_text = clean_headline_text + ' ' + word\n",
    "        \n",
    "    clean_messages.append(clean_headline_text)"
   ]
  },
  {
   "cell_type": "code",
   "execution_count": 42,
   "metadata": {},
   "outputs": [],
   "source": [
    "CNN_news_df['clean_headline_text']=clean_messages"
   ]
  },
  {
   "cell_type": "code",
   "execution_count": 43,
   "metadata": {},
   "outputs": [],
   "source": [
    "CNN_news_df['clean_headline_text']=CNN_news_df['clean_headline_text'].apply(lambda x:\" \".join(word.lower() for word in x.split()))"
   ]
  },
  {
   "cell_type": "code",
   "execution_count": 44,
   "metadata": {},
   "outputs": [],
   "source": [
    "CNN_news_df['clean_headline_text']=CNN_news_df['clean_headline_text'].str.replace('[^\\w\\s]','')"
   ]
  },
  {
   "cell_type": "code",
   "execution_count": 45,
   "metadata": {},
   "outputs": [],
   "source": [
    "from nltk.stem.wordnet import WordNetLemmatizer"
   ]
  },
  {
   "cell_type": "code",
   "execution_count": 46,
   "metadata": {},
   "outputs": [],
   "source": [
    "wordnet = WordNetLemmatizer()"
   ]
  },
  {
   "cell_type": "code",
   "execution_count": 47,
   "metadata": {},
   "outputs": [],
   "source": [
    "CNN_news_df['clean_headline_text']=CNN_news_df['clean_headline_text'].apply(lambda x:' '.join(wordnet.lemmatize(word) for word in x.split()))"
   ]
  },
  {
   "cell_type": "code",
   "execution_count": 48,
   "metadata": {},
   "outputs": [
    {
     "data": {
      "text/html": [
       "<div>\n",
       "<style scoped>\n",
       "    .dataframe tbody tr th:only-of-type {\n",
       "        vertical-align: middle;\n",
       "    }\n",
       "\n",
       "    .dataframe tbody tr th {\n",
       "        vertical-align: top;\n",
       "    }\n",
       "\n",
       "    .dataframe thead th {\n",
       "        text-align: right;\n",
       "    }\n",
       "</style>\n",
       "<table border=\"1\" class=\"dataframe\">\n",
       "  <thead>\n",
       "    <tr style=\"text-align: right;\">\n",
       "      <th></th>\n",
       "      <th>website</th>\n",
       "      <th>url</th>\n",
       "      <th>headline</th>\n",
       "      <th>date</th>\n",
       "      <th>Day of the Month</th>\n",
       "      <th>Sentiment</th>\n",
       "      <th>Polarity</th>\n",
       "      <th>clean_headline_text</th>\n",
       "    </tr>\n",
       "  </thead>\n",
       "  <tbody>\n",
       "    <tr>\n",
       "      <th>0</th>\n",
       "      <td>CNN</td>\n",
       "      <td>https://www.cnn.com/world/live-news/coronaviru...</td>\n",
       "      <td>8 cases of coronavirus confirmed in Colorado</td>\n",
       "      <td>03-6-20</td>\n",
       "      <td>6</td>\n",
       "      <td>positive</td>\n",
       "      <td>0.400000</td>\n",
       "      <td>8 case coronavirus confirmed colorado</td>\n",
       "    </tr>\n",
       "    <tr>\n",
       "      <th>1</th>\n",
       "      <td>CNN</td>\n",
       "      <td>https://www.cnn.com/world/live-news/coronaviru...</td>\n",
       "      <td>Kentucky confirms 1st coronavirus case</td>\n",
       "      <td>03-6-20</td>\n",
       "      <td>6</td>\n",
       "      <td>neutral</td>\n",
       "      <td>0.000000</td>\n",
       "      <td>kentucky confirms 1st coronavirus case</td>\n",
       "    </tr>\n",
       "    <tr>\n",
       "      <th>2</th>\n",
       "      <td>CNN</td>\n",
       "      <td>https://www.cnn.com/world/live-news/coronaviru...</td>\n",
       "      <td>Cruise passengers not told about coronavirus t...</td>\n",
       "      <td>03-6-20</td>\n",
       "      <td>6</td>\n",
       "      <td>neutral</td>\n",
       "      <td>0.000000</td>\n",
       "      <td>cruise passenger told coronavirus test result ...</td>\n",
       "    </tr>\n",
       "    <tr>\n",
       "      <th>3</th>\n",
       "      <td>CNN</td>\n",
       "      <td>https://www.cnn.com/world/live-news/coronaviru...</td>\n",
       "      <td>Son of nursing home resident with coronavirus ...</td>\n",
       "      <td>03-6-20</td>\n",
       "      <td>6</td>\n",
       "      <td>neutral</td>\n",
       "      <td>0.000000</td>\n",
       "      <td>son nursing home resident coronavirus describe...</td>\n",
       "    </tr>\n",
       "    <tr>\n",
       "      <th>4</th>\n",
       "      <td>CNN</td>\n",
       "      <td>https://www.cnn.com/world/live-news/coronaviru...</td>\n",
       "      <td>California's Santa Clara County confirms 4 new...</td>\n",
       "      <td>03-6-20</td>\n",
       "      <td>6</td>\n",
       "      <td>positive</td>\n",
       "      <td>0.136364</td>\n",
       "      <td>california s santa clara county confirms 4 new...</td>\n",
       "    </tr>\n",
       "  </tbody>\n",
       "</table>\n",
       "</div>"
      ],
      "text/plain": [
       "  website                                                url  \\\n",
       "0     CNN  https://www.cnn.com/world/live-news/coronaviru...   \n",
       "1     CNN  https://www.cnn.com/world/live-news/coronaviru...   \n",
       "2     CNN  https://www.cnn.com/world/live-news/coronaviru...   \n",
       "3     CNN  https://www.cnn.com/world/live-news/coronaviru...   \n",
       "4     CNN  https://www.cnn.com/world/live-news/coronaviru...   \n",
       "\n",
       "                                            headline     date  \\\n",
       "0       8 cases of coronavirus confirmed in Colorado  03-6-20   \n",
       "1             Kentucky confirms 1st coronavirus case  03-6-20   \n",
       "2  Cruise passengers not told about coronavirus t...  03-6-20   \n",
       "3  Son of nursing home resident with coronavirus ...  03-6-20   \n",
       "4  California's Santa Clara County confirms 4 new...  03-6-20   \n",
       "\n",
       "   Day of the Month Sentiment  Polarity  \\\n",
       "0                 6  positive  0.400000   \n",
       "1                 6   neutral  0.000000   \n",
       "2                 6   neutral  0.000000   \n",
       "3                 6   neutral  0.000000   \n",
       "4                 6  positive  0.136364   \n",
       "\n",
       "                                 clean_headline_text  \n",
       "0              8 case coronavirus confirmed colorado  \n",
       "1             kentucky confirms 1st coronavirus case  \n",
       "2  cruise passenger told coronavirus test result ...  \n",
       "3  son nursing home resident coronavirus describe...  \n",
       "4  california s santa clara county confirms 4 new...  "
      ]
     },
     "execution_count": 48,
     "metadata": {},
     "output_type": "execute_result"
    }
   ],
   "source": [
    "CNN_news_df.head()"
   ]
  },
  {
   "cell_type": "markdown",
   "metadata": {},
   "source": [
    "## Cleaning Headline Text of NDTV news "
   ]
  },
  {
   "cell_type": "code",
   "execution_count": 49,
   "metadata": {},
   "outputs": [],
   "source": [
    "clean_messages = []\n",
    "\n",
    "for i in range(NDTV_news_df.shape[0]):\n",
    "    clean_headline_text = ''\n",
    "    current_text = word_tokenize(NDTV_news_df['headline'].values[i])\n",
    "    for word in current_text:\n",
    "        if word == '@' or word == 'VirginAmerica' or word == 'United' or word == 'SouthwestAir' or word == 'USAirways' or word == 'americanair' or word == 'AmericanAir' or word == 'jetblue' or word == 'delta' or word == 'Delta':\n",
    "            continue\n",
    "        if not word in stopwords_list:\n",
    "            clean_headline_text = clean_headline_text + ' ' + word\n",
    "        \n",
    "    clean_messages.append(clean_headline_text)\n",
    "\n",
    "NDTV_news_df['clean_headline_text']=clean_messages\n",
    "\n",
    "NDTV_news_df['clean_headline_text']=NDTV_news_df['clean_headline_text'].apply(lambda x:\" \".join(word.lower() for word in x.split()))\n",
    "\n",
    "NDTV_news_df['clean_headline_text']=NDTV_news_df['clean_headline_text'].str.replace('[^\\w\\s]','')\n",
    "\n",
    "from nltk.stem.wordnet import WordNetLemmatizer\n",
    "\n",
    "#nltk.download('wordnet')\n",
    "\n",
    "wordnet = WordNetLemmatizer()\n",
    "\n",
    "NDTV_news_df['clean_headline_text']=NDTV_news_df['clean_headline_text'].apply(lambda x:' '.join(wordnet.lemmatize(word) for word in x.split()))"
   ]
  },
  {
   "cell_type": "code",
   "execution_count": 50,
   "metadata": {},
   "outputs": [
    {
     "data": {
      "text/html": [
       "<div>\n",
       "<style scoped>\n",
       "    .dataframe tbody tr th:only-of-type {\n",
       "        vertical-align: middle;\n",
       "    }\n",
       "\n",
       "    .dataframe tbody tr th {\n",
       "        vertical-align: top;\n",
       "    }\n",
       "\n",
       "    .dataframe thead th {\n",
       "        text-align: right;\n",
       "    }\n",
       "</style>\n",
       "<table border=\"1\" class=\"dataframe\">\n",
       "  <thead>\n",
       "    <tr style=\"text-align: right;\">\n",
       "      <th></th>\n",
       "      <th>website</th>\n",
       "      <th>url</th>\n",
       "      <th>headline</th>\n",
       "      <th>date</th>\n",
       "      <th>Day of the Month</th>\n",
       "      <th>Sentiment</th>\n",
       "      <th>Polarity</th>\n",
       "      <th>clean_headline_text</th>\n",
       "    </tr>\n",
       "  </thead>\n",
       "  <tbody>\n",
       "    <tr>\n",
       "      <th>0</th>\n",
       "      <td>NDTV</td>\n",
       "      <td>https://www.ndtv.com/topic/march-1</td>\n",
       "      <td>Assam PAT 2020: Application Dates Extended Til...</td>\n",
       "      <td>03-1-20</td>\n",
       "      <td>1</td>\n",
       "      <td>neutral</td>\n",
       "      <td>0.000000</td>\n",
       "      <td>assam pat 2020 application date extended till ...</td>\n",
       "    </tr>\n",
       "    <tr>\n",
       "      <th>1</th>\n",
       "      <td>NDTV</td>\n",
       "      <td>https://www.ndtv.com/topic/march-1</td>\n",
       "      <td>Coronavirus: RBI Extends Moratorium On Auto Lo...</td>\n",
       "      <td>03-1-20</td>\n",
       "      <td>1</td>\n",
       "      <td>positive</td>\n",
       "      <td>0.500000</td>\n",
       "      <td>coronavirus rbi extends moratorium on auto loa...</td>\n",
       "    </tr>\n",
       "    <tr>\n",
       "      <th>2</th>\n",
       "      <td>NDTV</td>\n",
       "      <td>https://www.ndtv.com/topic/march-1</td>\n",
       "      <td>Coronavirus Lockdown: Skoda Grants Extension O...</td>\n",
       "      <td>03-1-20</td>\n",
       "      <td>1</td>\n",
       "      <td>positive</td>\n",
       "      <td>0.136364</td>\n",
       "      <td>coronavirus lockdown skoda grant extension of ...</td>\n",
       "    </tr>\n",
       "    <tr>\n",
       "      <th>3</th>\n",
       "      <td>NDTV</td>\n",
       "      <td>https://www.ndtv.com/topic/march-1</td>\n",
       "      <td>Coronavirus Lockdown: CEAT Extends Warranty On...</td>\n",
       "      <td>03-1-20</td>\n",
       "      <td>1</td>\n",
       "      <td>neutral</td>\n",
       "      <td>0.000000</td>\n",
       "      <td>coronavirus lockdown ceat extends warranty on ...</td>\n",
       "    </tr>\n",
       "    <tr>\n",
       "      <th>4</th>\n",
       "      <td>NDTV</td>\n",
       "      <td>https://www.ndtv.com/topic/march-1</td>\n",
       "      <td>Coronavirus Pandemic: Porsche Extends Warranty...</td>\n",
       "      <td>03-1-20</td>\n",
       "      <td>1</td>\n",
       "      <td>neutral</td>\n",
       "      <td>0.000000</td>\n",
       "      <td>coronavirus pandemic porsche extends warranty ...</td>\n",
       "    </tr>\n",
       "  </tbody>\n",
       "</table>\n",
       "</div>"
      ],
      "text/plain": [
       "  website                                 url  \\\n",
       "0    NDTV  https://www.ndtv.com/topic/march-1   \n",
       "1    NDTV  https://www.ndtv.com/topic/march-1   \n",
       "2    NDTV  https://www.ndtv.com/topic/march-1   \n",
       "3    NDTV  https://www.ndtv.com/topic/march-1   \n",
       "4    NDTV  https://www.ndtv.com/topic/march-1   \n",
       "\n",
       "                                            headline     date  \\\n",
       "0  Assam PAT 2020: Application Dates Extended Til...  03-1-20   \n",
       "1  Coronavirus: RBI Extends Moratorium On Auto Lo...  03-1-20   \n",
       "2  Coronavirus Lockdown: Skoda Grants Extension O...  03-1-20   \n",
       "3  Coronavirus Lockdown: CEAT Extends Warranty On...  03-1-20   \n",
       "4  Coronavirus Pandemic: Porsche Extends Warranty...  03-1-20   \n",
       "\n",
       "   Day of the Month Sentiment  Polarity  \\\n",
       "0                 1   neutral  0.000000   \n",
       "1                 1  positive  0.500000   \n",
       "2                 1  positive  0.136364   \n",
       "3                 1   neutral  0.000000   \n",
       "4                 1   neutral  0.000000   \n",
       "\n",
       "                                 clean_headline_text  \n",
       "0  assam pat 2020 application date extended till ...  \n",
       "1  coronavirus rbi extends moratorium on auto loa...  \n",
       "2  coronavirus lockdown skoda grant extension of ...  \n",
       "3  coronavirus lockdown ceat extends warranty on ...  \n",
       "4  coronavirus pandemic porsche extends warranty ...  "
      ]
     },
     "execution_count": 50,
     "metadata": {},
     "output_type": "execute_result"
    }
   ],
   "source": [
    "NDTV_news_df.head()"
   ]
  },
  {
   "cell_type": "markdown",
   "metadata": {},
   "source": [
    "## Cleaning Headline Text of NYTIMES news "
   ]
  },
  {
   "cell_type": "code",
   "execution_count": 51,
   "metadata": {},
   "outputs": [],
   "source": [
    "clean_messages = []\n",
    "\n",
    "for i in range(NYTIMES_news_df.shape[0]):\n",
    "    clean_headline_text = ''\n",
    "    current_text = word_tokenize(NYTIMES_news_df['headline'].values[i])\n",
    "    for word in current_text:\n",
    "        if word == '@' or word == 'VirginAmerica' or word == 'United' or word == 'SouthwestAir' or word == 'USAirways' or word == 'americanair' or word == 'AmericanAir' or word == 'jetblue' or word == 'delta' or word == 'Delta':\n",
    "            continue\n",
    "        if not word in stopwords_list:\n",
    "            clean_headline_text = clean_headline_text + ' ' + word\n",
    "        \n",
    "    clean_messages.append(clean_headline_text)\n",
    "\n",
    "NYTIMES_news_df['clean_headline_text']=clean_messages\n",
    "\n",
    "NYTIMES_news_df['clean_headline_text']=NYTIMES_news_df['clean_headline_text'].apply(lambda x:\" \".join(word.lower() for word in x.split()))\n",
    "\n",
    "NYTIMES_news_df['clean_headline_text']=NYTIMES_news_df['clean_headline_text'].str.replace('[^\\w\\s]','')\n",
    "\n",
    "from nltk.stem.wordnet import WordNetLemmatizer\n",
    "\n",
    "#nltk.download('wordnet')\n",
    "\n",
    "wordnet = WordNetLemmatizer()\n",
    "\n",
    "NYTIMES_news_df['clean_headline_text']=NYTIMES_news_df['clean_headline_text'].apply(lambda x:' '.join(wordnet.lemmatize(word) for word in x.split()))"
   ]
  },
  {
   "cell_type": "code",
   "execution_count": 52,
   "metadata": {},
   "outputs": [
    {
     "data": {
      "text/html": [
       "<div>\n",
       "<style scoped>\n",
       "    .dataframe tbody tr th:only-of-type {\n",
       "        vertical-align: middle;\n",
       "    }\n",
       "\n",
       "    .dataframe tbody tr th {\n",
       "        vertical-align: top;\n",
       "    }\n",
       "\n",
       "    .dataframe thead th {\n",
       "        text-align: right;\n",
       "    }\n",
       "</style>\n",
       "<table border=\"1\" class=\"dataframe\">\n",
       "  <thead>\n",
       "    <tr style=\"text-align: right;\">\n",
       "      <th></th>\n",
       "      <th>website</th>\n",
       "      <th>url</th>\n",
       "      <th>headline</th>\n",
       "      <th>date</th>\n",
       "      <th>Day of the Month</th>\n",
       "      <th>Sentiment</th>\n",
       "      <th>Polarity</th>\n",
       "      <th>clean_headline_text</th>\n",
       "    </tr>\n",
       "  </thead>\n",
       "  <tbody>\n",
       "    <tr>\n",
       "      <th>3</th>\n",
       "      <td>NYTIMES</td>\n",
       "      <td>https://www.irishtimes.com/static/articleindex...</td>\n",
       "      <td>Joe Biden wins crucial South Carolina primary ...</td>\n",
       "      <td>03-1-20</td>\n",
       "      <td>1</td>\n",
       "      <td>positive</td>\n",
       "      <td>0.258333</td>\n",
       "      <td>joe biden win crucial south carolina primary a...</td>\n",
       "    </tr>\n",
       "    <tr>\n",
       "      <th>4</th>\n",
       "      <td>NYTIMES</td>\n",
       "      <td>https://www.irishtimes.com/static/articleindex...</td>\n",
       "      <td>Teenage girl dies in single vehicle crash in C...</td>\n",
       "      <td>03-1-20</td>\n",
       "      <td>1</td>\n",
       "      <td>negative</td>\n",
       "      <td>-0.035714</td>\n",
       "      <td>teenage girl dy single vehicle crash co galway</td>\n",
       "    </tr>\n",
       "    <tr>\n",
       "      <th>5</th>\n",
       "      <td>NYTIMES</td>\n",
       "      <td>https://www.irishtimes.com/static/articleindex...</td>\n",
       "      <td>Storm Jorge: Flooding danger this week as rain...</td>\n",
       "      <td>03-1-20</td>\n",
       "      <td>1</td>\n",
       "      <td>neutral</td>\n",
       "      <td>0.000000</td>\n",
       "      <td>storm jorge flooding danger week rainfall filt...</td>\n",
       "    </tr>\n",
       "    <tr>\n",
       "      <th>6</th>\n",
       "      <td>NYTIMES</td>\n",
       "      <td>https://www.irishtimes.com/static/articleindex...</td>\n",
       "      <td>Thousands try to enter Greece after Turkey ope...</td>\n",
       "      <td>03-1-20</td>\n",
       "      <td>1</td>\n",
       "      <td>neutral</td>\n",
       "      <td>0.000000</td>\n",
       "      <td>thousand try enter greece turkey open border</td>\n",
       "    </tr>\n",
       "    <tr>\n",
       "      <th>7</th>\n",
       "      <td>NYTIMES</td>\n",
       "      <td>https://www.irishtimes.com/static/articleindex...</td>\n",
       "      <td>Coronavirus: UK confirms 36 cases as 13 more p...</td>\n",
       "      <td>03-1-20</td>\n",
       "      <td>1</td>\n",
       "      <td>positive</td>\n",
       "      <td>0.500000</td>\n",
       "      <td>coronavirus uk confirms 36 case 13 patient ide...</td>\n",
       "    </tr>\n",
       "  </tbody>\n",
       "</table>\n",
       "</div>"
      ],
      "text/plain": [
       "   website                                                url  \\\n",
       "3  NYTIMES  https://www.irishtimes.com/static/articleindex...   \n",
       "4  NYTIMES  https://www.irishtimes.com/static/articleindex...   \n",
       "5  NYTIMES  https://www.irishtimes.com/static/articleindex...   \n",
       "6  NYTIMES  https://www.irishtimes.com/static/articleindex...   \n",
       "7  NYTIMES  https://www.irishtimes.com/static/articleindex...   \n",
       "\n",
       "                                            headline     date  \\\n",
       "3  Joe Biden wins crucial South Carolina primary ...  03-1-20   \n",
       "4  Teenage girl dies in single vehicle crash in C...  03-1-20   \n",
       "5  Storm Jorge: Flooding danger this week as rain...  03-1-20   \n",
       "6  Thousands try to enter Greece after Turkey ope...  03-1-20   \n",
       "7  Coronavirus: UK confirms 36 cases as 13 more p...  03-1-20   \n",
       "\n",
       "   Day of the Month Sentiment  Polarity  \\\n",
       "3                 1  positive  0.258333   \n",
       "4                 1  negative -0.035714   \n",
       "5                 1   neutral  0.000000   \n",
       "6                 1   neutral  0.000000   \n",
       "7                 1  positive  0.500000   \n",
       "\n",
       "                                 clean_headline_text  \n",
       "3  joe biden win crucial south carolina primary a...  \n",
       "4     teenage girl dy single vehicle crash co galway  \n",
       "5  storm jorge flooding danger week rainfall filt...  \n",
       "6       thousand try enter greece turkey open border  \n",
       "7  coronavirus uk confirms 36 case 13 patient ide...  "
      ]
     },
     "execution_count": 52,
     "metadata": {},
     "output_type": "execute_result"
    }
   ],
   "source": [
    "NYTIMES_news_df.head()"
   ]
  },
  {
   "cell_type": "markdown",
   "metadata": {},
   "source": [
    "# LABEL ENCODING"
   ]
  },
  {
   "cell_type": "code",
   "execution_count": 53,
   "metadata": {},
   "outputs": [],
   "source": [
    "from sklearn.preprocessing import LabelEncoder\n",
    "le=LabelEncoder()"
   ]
  },
  {
   "cell_type": "code",
   "execution_count": 54,
   "metadata": {},
   "outputs": [],
   "source": [
    "CNN_news_df['Sentiment']=le.fit_transform(CNN_news_df['Sentiment'])"
   ]
  },
  {
   "cell_type": "code",
   "execution_count": 55,
   "metadata": {},
   "outputs": [],
   "source": [
    "NDTV_news_df['Sentiment']=le.fit_transform(NDTV_news_df['Sentiment'])"
   ]
  },
  {
   "cell_type": "code",
   "execution_count": 56,
   "metadata": {},
   "outputs": [],
   "source": [
    "NYTIMES_news_df['Sentiment']=le.fit_transform(NYTIMES_news_df['Sentiment'])"
   ]
  },
  {
   "cell_type": "markdown",
   "metadata": {},
   "source": [
    "# Tfidf Vectorizer"
   ]
  },
  {
   "cell_type": "code",
   "execution_count": 57,
   "metadata": {},
   "outputs": [],
   "source": [
    "from sklearn.feature_extraction.text import TfidfVectorizer\n",
    "vectorizer = TfidfVectorizer()"
   ]
  },
  {
   "cell_type": "code",
   "execution_count": 58,
   "metadata": {},
   "outputs": [],
   "source": [
    "X_cnn = vectorizer.fit_transform(CNN_news_df['clean_headline_text'])"
   ]
  },
  {
   "cell_type": "code",
   "execution_count": 59,
   "metadata": {},
   "outputs": [],
   "source": [
    "X_ndtv = vectorizer.fit_transform(NDTV_news_df['clean_headline_text'])"
   ]
  },
  {
   "cell_type": "code",
   "execution_count": 60,
   "metadata": {},
   "outputs": [],
   "source": [
    "X_nytimes = vectorizer.fit_transform(NYTIMES_news_df['clean_headline_text'])"
   ]
  },
  {
   "cell_type": "markdown",
   "metadata": {},
   "source": [
    "# LOGISTIC REGRESSION"
   ]
  },
  {
   "cell_type": "markdown",
   "metadata": {},
   "source": [
    "## FOR CNN NEWS: "
   ]
  },
  {
   "cell_type": "code",
   "execution_count": 61,
   "metadata": {},
   "outputs": [],
   "source": [
    "from sklearn.model_selection import train_test_split\n",
    "from sklearn.linear_model import LogisticRegression"
   ]
  },
  {
   "cell_type": "code",
   "execution_count": 62,
   "metadata": {},
   "outputs": [],
   "source": [
    "Y_cnn=CNN_news_df['Sentiment']"
   ]
  },
  {
   "cell_type": "code",
   "execution_count": 63,
   "metadata": {},
   "outputs": [],
   "source": [
    "Y_ndtv=NDTV_news_df['Sentiment']"
   ]
  },
  {
   "cell_type": "code",
   "execution_count": 64,
   "metadata": {},
   "outputs": [],
   "source": [
    "Y_nytimes=NYTIMES_news_df['Sentiment']"
   ]
  },
  {
   "cell_type": "code",
   "execution_count": 65,
   "metadata": {},
   "outputs": [
    {
     "data": {
      "text/plain": [
       "0.5555555555555556"
      ]
     },
     "execution_count": 65,
     "metadata": {},
     "output_type": "execute_result"
    }
   ],
   "source": [
    "logreg=LogisticRegression()\n",
    "X_train, X_test, Y_train, Y_test = train_test_split(X_cnn,Y_cnn)\n",
    "logreg.fit(X_train,Y_train)\n",
    "y_pred=logreg.predict(X_test)\n",
    "logreg.score(X_test,Y_test)"
   ]
  },
  {
   "cell_type": "markdown",
   "metadata": {},
   "source": [
    "## FOR NDTV NEWS: "
   ]
  },
  {
   "cell_type": "code",
   "execution_count": 66,
   "metadata": {},
   "outputs": [
    {
     "data": {
      "text/plain": [
       "0.825287356321839"
      ]
     },
     "execution_count": 66,
     "metadata": {},
     "output_type": "execute_result"
    }
   ],
   "source": [
    "logreg=LogisticRegression()\n",
    "Y=NDTV_news_df['Sentiment']\n",
    "X_train, X_test, Y_train, Y_test = train_test_split(X_ndtv,Y_ndtv)\n",
    "logreg.fit(X_train,Y_train)\n",
    "y_pred=logreg.predict(X_test)\n",
    "logreg.score(X_test,Y_test)"
   ]
  },
  {
   "cell_type": "markdown",
   "metadata": {},
   "source": [
    "## FOR NYTIMES NEWS: "
   ]
  },
  {
   "cell_type": "code",
   "execution_count": 67,
   "metadata": {},
   "outputs": [
    {
     "data": {
      "text/plain": [
       "0.6987951807228916"
      ]
     },
     "execution_count": 67,
     "metadata": {},
     "output_type": "execute_result"
    }
   ],
   "source": [
    "logreg=LogisticRegression()\n",
    "Y=NYTIMES_news_df['Sentiment']\n",
    "X_train, X_test, Y_train, Y_test = train_test_split(X_nytimes,Y_nytimes)\n",
    "logreg.fit(X_train,Y_train)\n",
    "y_pred=logreg.predict(X_test)\n",
    "logreg.score(X_test,Y_test)"
   ]
  },
  {
   "cell_type": "markdown",
   "metadata": {},
   "source": [
    "# SUPPORT VECTOR CLASSIFIER (SVC)"
   ]
  },
  {
   "cell_type": "markdown",
   "metadata": {},
   "source": [
    "## FOR CNN NEWS: "
   ]
  },
  {
   "cell_type": "code",
   "execution_count": 68,
   "metadata": {},
   "outputs": [],
   "source": [
    "from sklearn.svm import SVC\n",
    "svc=SVC() "
   ]
  },
  {
   "cell_type": "code",
   "execution_count": 69,
   "metadata": {},
   "outputs": [],
   "source": [
    "X_train, X_test, Y_train, Y_test = train_test_split(X_cnn,Y_cnn)\n",
    "svc.fit(X_train,Y_train)\n",
    "y_pred=svc.predict(X_test) "
   ]
  },
  {
   "cell_type": "code",
   "execution_count": 70,
   "metadata": {},
   "outputs": [],
   "source": [
    "from sklearn.metrics import accuracy_score"
   ]
  },
  {
   "cell_type": "code",
   "execution_count": 71,
   "metadata": {},
   "outputs": [
    {
     "data": {
      "text/plain": [
       "0.5777777777777777"
      ]
     },
     "execution_count": 71,
     "metadata": {},
     "output_type": "execute_result"
    }
   ],
   "source": [
    "accuracy_score(Y_test,y_pred)"
   ]
  },
  {
   "cell_type": "markdown",
   "metadata": {},
   "source": [
    "## FOR NDTV NEWS: "
   ]
  },
  {
   "cell_type": "code",
   "execution_count": 72,
   "metadata": {},
   "outputs": [],
   "source": [
    "X_train, X_test, Y_train, Y_test = train_test_split(X_ndtv,Y_ndtv)\n",
    "svc.fit(X_train,Y_train)\n",
    "y_pred=svc.predict(X_test) "
   ]
  },
  {
   "cell_type": "code",
   "execution_count": 73,
   "metadata": {},
   "outputs": [
    {
     "data": {
      "text/plain": [
       "0.960919540229885"
      ]
     },
     "execution_count": 73,
     "metadata": {},
     "output_type": "execute_result"
    }
   ],
   "source": [
    "accuracy_score(Y_test,y_pred)"
   ]
  },
  {
   "cell_type": "markdown",
   "metadata": {},
   "source": [
    "## FOR NYTIMES NEWS: "
   ]
  },
  {
   "cell_type": "code",
   "execution_count": 74,
   "metadata": {},
   "outputs": [],
   "source": [
    "X_train, X_test, Y_train, Y_test = train_test_split(X_nytimes,Y_nytimes)\n",
    "svc.fit(X_train,Y_train)\n",
    "y_pred=svc.predict(X_test) "
   ]
  },
  {
   "cell_type": "code",
   "execution_count": 75,
   "metadata": {},
   "outputs": [
    {
     "data": {
      "text/plain": [
       "0.6798623063683304"
      ]
     },
     "execution_count": 75,
     "metadata": {},
     "output_type": "execute_result"
    }
   ],
   "source": [
    "accuracy_score(Y_test,y_pred)"
   ]
  },
  {
   "cell_type": "markdown",
   "metadata": {},
   "source": [
    "# DECISION TREE CLASSIFIER"
   ]
  },
  {
   "cell_type": "markdown",
   "metadata": {},
   "source": [
    "## FOR CNN NEWS: "
   ]
  },
  {
   "cell_type": "code",
   "execution_count": 76,
   "metadata": {},
   "outputs": [],
   "source": [
    "from sklearn.tree import DecisionTreeClassifier"
   ]
  },
  {
   "cell_type": "code",
   "execution_count": 77,
   "metadata": {},
   "outputs": [
    {
     "data": {
      "text/plain": [
       "DecisionTreeClassifier(ccp_alpha=0.0, class_weight=None, criterion='gini',\n",
       "                       max_depth=None, max_features=None, max_leaf_nodes=None,\n",
       "                       min_impurity_decrease=0.0, min_impurity_split=None,\n",
       "                       min_samples_leaf=1, min_samples_split=2,\n",
       "                       min_weight_fraction_leaf=0.0, presort='deprecated',\n",
       "                       random_state=None, splitter='best')"
      ]
     },
     "execution_count": 77,
     "metadata": {},
     "output_type": "execute_result"
    }
   ],
   "source": [
    "clf = DecisionTreeClassifier()\n",
    "X_train, X_test, Y_train, Y_test = train_test_split(X_cnn,Y_cnn)\n",
    "clf.fit(X_train,Y_train)"
   ]
  },
  {
   "cell_type": "code",
   "execution_count": 78,
   "metadata": {},
   "outputs": [
    {
     "data": {
      "text/plain": [
       "0.6"
      ]
     },
     "execution_count": 78,
     "metadata": {},
     "output_type": "execute_result"
    }
   ],
   "source": [
    "y_pred=clf.predict(X_test)\n",
    "accuracy_score(Y_test,y_pred)"
   ]
  },
  {
   "cell_type": "markdown",
   "metadata": {},
   "source": [
    "## FOR NDTV NEWS: "
   ]
  },
  {
   "cell_type": "code",
   "execution_count": 79,
   "metadata": {},
   "outputs": [
    {
     "data": {
      "text/plain": [
       "DecisionTreeClassifier(ccp_alpha=0.0, class_weight=None, criterion='gini',\n",
       "                       max_depth=None, max_features=None, max_leaf_nodes=None,\n",
       "                       min_impurity_decrease=0.0, min_impurity_split=None,\n",
       "                       min_samples_leaf=1, min_samples_split=2,\n",
       "                       min_weight_fraction_leaf=0.0, presort='deprecated',\n",
       "                       random_state=None, splitter='best')"
      ]
     },
     "execution_count": 79,
     "metadata": {},
     "output_type": "execute_result"
    }
   ],
   "source": [
    "clf = DecisionTreeClassifier()\n",
    "X_train, X_test, Y_train, Y_test = train_test_split(X_ndtv,Y_ndtv)\n",
    "clf.fit(X_train,Y_train)"
   ]
  },
  {
   "cell_type": "code",
   "execution_count": 80,
   "metadata": {},
   "outputs": [
    {
     "data": {
      "text/plain": [
       "0.9632183908045977"
      ]
     },
     "execution_count": 80,
     "metadata": {},
     "output_type": "execute_result"
    }
   ],
   "source": [
    "y_pred=clf.predict(X_test)\n",
    "accuracy_score(Y_test,y_pred)"
   ]
  },
  {
   "cell_type": "markdown",
   "metadata": {},
   "source": [
    "## FOR NYTIMES NEWS: "
   ]
  },
  {
   "cell_type": "code",
   "execution_count": 81,
   "metadata": {},
   "outputs": [
    {
     "data": {
      "text/plain": [
       "DecisionTreeClassifier(ccp_alpha=0.0, class_weight=None, criterion='gini',\n",
       "                       max_depth=None, max_features=None, max_leaf_nodes=None,\n",
       "                       min_impurity_decrease=0.0, min_impurity_split=None,\n",
       "                       min_samples_leaf=1, min_samples_split=2,\n",
       "                       min_weight_fraction_leaf=0.0, presort='deprecated',\n",
       "                       random_state=None, splitter='best')"
      ]
     },
     "execution_count": 81,
     "metadata": {},
     "output_type": "execute_result"
    }
   ],
   "source": [
    "clf = DecisionTreeClassifier()\n",
    "X_train, X_test, Y_train, Y_test = train_test_split(X_nytimes,Y_nytimes)\n",
    "clf.fit(X_train,Y_train)"
   ]
  },
  {
   "cell_type": "code",
   "execution_count": 82,
   "metadata": {},
   "outputs": [
    {
     "data": {
      "text/plain": [
       "0.8339070567986231"
      ]
     },
     "execution_count": 82,
     "metadata": {},
     "output_type": "execute_result"
    }
   ],
   "source": [
    "y_pred=clf.predict(X_test)\n",
    "accuracy_score(Y_test,y_pred)"
   ]
  }
 ],
 "metadata": {
  "kernelspec": {
   "display_name": "Python 3",
   "language": "python",
   "name": "python3"
  },
  "language_info": {
   "codemirror_mode": {
    "name": "ipython",
    "version": 3
   },
   "file_extension": ".py",
   "mimetype": "text/x-python",
   "name": "python",
   "nbconvert_exporter": "python",
   "pygments_lexer": "ipython3",
   "version": "3.7.6"
  }
 },
 "nbformat": 4,
 "nbformat_minor": 4
}
